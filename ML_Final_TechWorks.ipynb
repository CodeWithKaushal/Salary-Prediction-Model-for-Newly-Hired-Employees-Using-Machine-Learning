{
 "cells": [
  {
   "cell_type": "markdown",
   "metadata": {},
   "source": [
    "# Salary Prediction for 'TechWorks Consulting' "
   ]
  },
  {
   "cell_type": "markdown",
   "metadata": {},
   "source": [
    "# Problem Statement\n",
    "- **Context and Company Background:** TechWorks Consulting, a company specializing in IT talent recruitment, and highlights its unique approach to matching skilled IT professionals with job opportunities.\n",
    "- **Data Description:** The Dataset conatins information about colleges, cities, roles, previous experience, and salary. This information will be used to train and test the predictive model.\n",
    "- **Regression Task:** The primary objective is to perform a regression task, where the aim is to predict a continuous variable, specifically the salary of newly hired employees.\n",
    "- **Role of Statistics:** The role of statistics is to build and check the accuracy of the model.\n",
    "- **Data Preprocessing:** Data Preprocessing is most important task as it involves tasks like handling missing values, outliers, categorical variables, normalization, and feature selection."
   ]
  },
  {
   "cell_type": "markdown",
   "metadata": {
    "vscode": {
     "languageId": "plaintext"
    }
   },
   "source": [
    "# 1. Importing Libraries\n",
    "###     Importing basic libraries for:\n",
    "* Data Manipulation\n",
    "* Data Visualization\n",
    "* Data Analysis"
   ]
  },
  {
   "cell_type": "code",
   "execution_count": 1,
   "metadata": {},
   "outputs": [],
   "source": [
    "import pandas as pd\n",
    "import numpy as np\n",
    "import seaborn as sns\n",
    "import matplotlib.pyplot as plt\n",
    "from sklearn.preprocessing import StandardScaler\n",
    "from sklearn.linear_model import LinearRegression\n",
    "from sklearn.linear_model import Ridge\n",
    "from sklearn.model_selection import train_test_split\n",
    "from sklearn.metrics import r2_score, mean_absolute_error, mean_squared_error"
   ]
  },
  {
   "cell_type": "markdown",
   "metadata": {},
   "source": [
    "# 2. Data Collection\n",
    "### Importing the data sets"
   ]
  },
  {
   "cell_type": "code",
   "execution_count": 2,
   "metadata": {},
   "outputs": [],
   "source": [
    "# Read a CSV file into a DataFrame\n",
    "\n",
    "df = pd.read_csv(\"ML case Study.csv\")\n",
    "college = pd.read_csv(\"Colleges.csv\")\n",
    "cities = pd.read_csv(\"cities.csv\")"
   ]
  },
  {
   "cell_type": "code",
   "execution_count": 3,
   "metadata": {},
   "outputs": [
    {
     "data": {
      "text/html": [
       "<div>\n",
       "<style scoped>\n",
       "    .dataframe tbody tr th:only-of-type {\n",
       "        vertical-align: middle;\n",
       "    }\n",
       "\n",
       "    .dataframe tbody tr th {\n",
       "        vertical-align: top;\n",
       "    }\n",
       "\n",
       "    .dataframe thead th {\n",
       "        text-align: right;\n",
       "    }\n",
       "</style>\n",
       "<table border=\"1\" class=\"dataframe\">\n",
       "  <thead>\n",
       "    <tr style=\"text-align: right;\">\n",
       "      <th></th>\n",
       "      <th>College</th>\n",
       "      <th>City</th>\n",
       "      <th>Role</th>\n",
       "      <th>Previous CTC</th>\n",
       "      <th>Previous job change</th>\n",
       "      <th>Graduation Marks</th>\n",
       "      <th>EXP (Month)</th>\n",
       "      <th>CTC</th>\n",
       "    </tr>\n",
       "  </thead>\n",
       "  <tbody>\n",
       "    <tr>\n",
       "      <th>0</th>\n",
       "      <td>SVNIT Surat</td>\n",
       "      <td>Asansol</td>\n",
       "      <td>Manager</td>\n",
       "      <td>55523.0</td>\n",
       "      <td>3</td>\n",
       "      <td>66</td>\n",
       "      <td>19</td>\n",
       "      <td>71406.58</td>\n",
       "    </tr>\n",
       "    <tr>\n",
       "      <th>1</th>\n",
       "      <td>NIT Bhopal</td>\n",
       "      <td>Ajmer</td>\n",
       "      <td>Executive</td>\n",
       "      <td>57081.0</td>\n",
       "      <td>1</td>\n",
       "      <td>84</td>\n",
       "      <td>18</td>\n",
       "      <td>68005.87</td>\n",
       "    </tr>\n",
       "    <tr>\n",
       "      <th>2</th>\n",
       "      <td>IEM, Kolkata</td>\n",
       "      <td>Rajpur Sonarpur</td>\n",
       "      <td>Executive</td>\n",
       "      <td>60347.0</td>\n",
       "      <td>2</td>\n",
       "      <td>52</td>\n",
       "      <td>28</td>\n",
       "      <td>76764.02</td>\n",
       "    </tr>\n",
       "    <tr>\n",
       "      <th>3</th>\n",
       "      <td>KIIT, Bhubaneswar</td>\n",
       "      <td>Ajmer</td>\n",
       "      <td>Executive</td>\n",
       "      <td>49010.0</td>\n",
       "      <td>2</td>\n",
       "      <td>81</td>\n",
       "      <td>33</td>\n",
       "      <td>82092.39</td>\n",
       "    </tr>\n",
       "    <tr>\n",
       "      <th>4</th>\n",
       "      <td>DTU</td>\n",
       "      <td>Durgapur</td>\n",
       "      <td>Executive</td>\n",
       "      <td>57879.0</td>\n",
       "      <td>4</td>\n",
       "      <td>74</td>\n",
       "      <td>32</td>\n",
       "      <td>73878.10</td>\n",
       "    </tr>\n",
       "  </tbody>\n",
       "</table>\n",
       "</div>"
      ],
      "text/plain": [
       "             College             City       Role  Previous CTC  \\\n",
       "0        SVNIT Surat          Asansol    Manager       55523.0   \n",
       "1         NIT Bhopal            Ajmer  Executive       57081.0   \n",
       "2       IEM, Kolkata  Rajpur Sonarpur  Executive       60347.0   \n",
       "3  KIIT, Bhubaneswar            Ajmer  Executive       49010.0   \n",
       "4                DTU         Durgapur  Executive       57879.0   \n",
       "\n",
       "   Previous job change  Graduation Marks  EXP (Month)       CTC  \n",
       "0                    3                66           19  71406.58  \n",
       "1                    1                84           18  68005.87  \n",
       "2                    2                52           28  76764.02  \n",
       "3                    2                81           33  82092.39  \n",
       "4                    4                74           32  73878.10  "
      ]
     },
     "execution_count": 3,
     "metadata": {},
     "output_type": "execute_result"
    }
   ],
   "source": [
    "# Overview of Data\n",
    "\n",
    "df.head()"
   ]
  },
  {
   "cell_type": "code",
   "execution_count": 4,
   "metadata": {},
   "outputs": [
    {
     "name": "stdout",
     "output_type": "stream",
     "text": [
      "<class 'pandas.core.frame.DataFrame'>\n",
      "RangeIndex: 1589 entries, 0 to 1588\n",
      "Data columns (total 8 columns):\n",
      " #   Column               Non-Null Count  Dtype  \n",
      "---  ------               --------------  -----  \n",
      " 0   College              1589 non-null   object \n",
      " 1   City                 1589 non-null   object \n",
      " 2   Role                 1589 non-null   object \n",
      " 3   Previous CTC         1589 non-null   float64\n",
      " 4   Previous job change  1589 non-null   int64  \n",
      " 5   Graduation Marks     1589 non-null   int64  \n",
      " 6   EXP (Month)          1589 non-null   int64  \n",
      " 7   CTC                  1589 non-null   float64\n",
      "dtypes: float64(2), int64(3), object(3)\n",
      "memory usage: 99.4+ KB\n"
     ]
    }
   ],
   "source": [
    "df.info()"
   ]
  },
  {
   "cell_type": "code",
   "execution_count": 5,
   "metadata": {},
   "outputs": [
    {
     "data": {
      "text/html": [
       "<div>\n",
       "<style scoped>\n",
       "    .dataframe tbody tr th:only-of-type {\n",
       "        vertical-align: middle;\n",
       "    }\n",
       "\n",
       "    .dataframe tbody tr th {\n",
       "        vertical-align: top;\n",
       "    }\n",
       "\n",
       "    .dataframe thead th {\n",
       "        text-align: right;\n",
       "    }\n",
       "</style>\n",
       "<table border=\"1\" class=\"dataframe\">\n",
       "  <thead>\n",
       "    <tr style=\"text-align: right;\">\n",
       "      <th></th>\n",
       "      <th>Tier 1</th>\n",
       "      <th>Tier 2</th>\n",
       "      <th>Tier 3</th>\n",
       "    </tr>\n",
       "  </thead>\n",
       "  <tbody>\n",
       "    <tr>\n",
       "      <th>0</th>\n",
       "      <td>IIT Bombay</td>\n",
       "      <td>IIIT Bangalore</td>\n",
       "      <td>Ramaiah Institute of Technology, Bengaluru</td>\n",
       "    </tr>\n",
       "    <tr>\n",
       "      <th>1</th>\n",
       "      <td>IIT Delhi</td>\n",
       "      <td>IIIT Delhi</td>\n",
       "      <td>TIET/Thapar University</td>\n",
       "    </tr>\n",
       "    <tr>\n",
       "      <th>2</th>\n",
       "      <td>IIT Kharagpur</td>\n",
       "      <td>IGDTUW</td>\n",
       "      <td>Manipal Main Campus</td>\n",
       "    </tr>\n",
       "    <tr>\n",
       "      <th>3</th>\n",
       "      <td>IIT Madras</td>\n",
       "      <td>NIT Calicut</td>\n",
       "      <td>VIT Vellore</td>\n",
       "    </tr>\n",
       "    <tr>\n",
       "      <th>4</th>\n",
       "      <td>IIT Kanpur</td>\n",
       "      <td>IIITM Gwalior</td>\n",
       "      <td>SRM Main Campus</td>\n",
       "    </tr>\n",
       "  </tbody>\n",
       "</table>\n",
       "</div>"
      ],
      "text/plain": [
       "          Tier 1          Tier 2                                      Tier 3\n",
       "0     IIT Bombay  IIIT Bangalore  Ramaiah Institute of Technology, Bengaluru\n",
       "1      IIT Delhi      IIIT Delhi                      TIET/Thapar University\n",
       "2  IIT Kharagpur          IGDTUW                         Manipal Main Campus\n",
       "3     IIT Madras     NIT Calicut                                 VIT Vellore\n",
       "4     IIT Kanpur   IIITM Gwalior                             SRM Main Campus"
      ]
     },
     "execution_count": 5,
     "metadata": {},
     "output_type": "execute_result"
    }
   ],
   "source": [
    "# Overview of College data\n",
    "\n",
    "college.head()"
   ]
  },
  {
   "cell_type": "code",
   "execution_count": 6,
   "metadata": {},
   "outputs": [
    {
     "name": "stdout",
     "output_type": "stream",
     "text": [
      "<class 'pandas.core.frame.DataFrame'>\n",
      "RangeIndex: 28 entries, 0 to 27\n",
      "Data columns (total 3 columns):\n",
      " #   Column  Non-Null Count  Dtype \n",
      "---  ------  --------------  ----- \n",
      " 0   Tier 1  22 non-null     object\n",
      " 1   Tier 2  28 non-null     object\n",
      " 2   Tier 3  19 non-null     object\n",
      "dtypes: object(3)\n",
      "memory usage: 804.0+ bytes\n"
     ]
    }
   ],
   "source": [
    "college.info()"
   ]
  },
  {
   "cell_type": "code",
   "execution_count": 7,
   "metadata": {},
   "outputs": [
    {
     "data": {
      "text/html": [
       "<div>\n",
       "<style scoped>\n",
       "    .dataframe tbody tr th:only-of-type {\n",
       "        vertical-align: middle;\n",
       "    }\n",
       "\n",
       "    .dataframe tbody tr th {\n",
       "        vertical-align: top;\n",
       "    }\n",
       "\n",
       "    .dataframe thead th {\n",
       "        text-align: right;\n",
       "    }\n",
       "</style>\n",
       "<table border=\"1\" class=\"dataframe\">\n",
       "  <thead>\n",
       "    <tr style=\"text-align: right;\">\n",
       "      <th></th>\n",
       "      <th>Metrio City</th>\n",
       "      <th>non-metro cities</th>\n",
       "    </tr>\n",
       "  </thead>\n",
       "  <tbody>\n",
       "    <tr>\n",
       "      <th>0</th>\n",
       "      <td>Mumbai</td>\n",
       "      <td>Dehradun</td>\n",
       "    </tr>\n",
       "    <tr>\n",
       "      <th>1</th>\n",
       "      <td>Delhi</td>\n",
       "      <td>Durgapur</td>\n",
       "    </tr>\n",
       "    <tr>\n",
       "      <th>2</th>\n",
       "      <td>Kolkata</td>\n",
       "      <td>Asansol</td>\n",
       "    </tr>\n",
       "    <tr>\n",
       "      <th>3</th>\n",
       "      <td>Chennai</td>\n",
       "      <td>Rourkela</td>\n",
       "    </tr>\n",
       "    <tr>\n",
       "      <th>4</th>\n",
       "      <td>Bangalore</td>\n",
       "      <td>Kozhikode</td>\n",
       "    </tr>\n",
       "  </tbody>\n",
       "</table>\n",
       "</div>"
      ],
      "text/plain": [
       "  Metrio City non-metro cities\n",
       "0      Mumbai         Dehradun\n",
       "1       Delhi         Durgapur\n",
       "2     Kolkata          Asansol\n",
       "3     Chennai         Rourkela\n",
       "4   Bangalore        Kozhikode"
      ]
     },
     "execution_count": 7,
     "metadata": {},
     "output_type": "execute_result"
    }
   ],
   "source": [
    "# Overview of City data\n",
    "\n",
    "cities.head()"
   ]
  },
  {
   "cell_type": "code",
   "execution_count": 8,
   "metadata": {},
   "outputs": [
    {
     "name": "stdout",
     "output_type": "stream",
     "text": [
      "<class 'pandas.core.frame.DataFrame'>\n",
      "RangeIndex: 9 entries, 0 to 8\n",
      "Data columns (total 2 columns):\n",
      " #   Column            Non-Null Count  Dtype \n",
      "---  ------            --------------  ----- \n",
      " 0   Metrio City       9 non-null      object\n",
      " 1   non-metro cities  8 non-null      object\n",
      "dtypes: object(2)\n",
      "memory usage: 276.0+ bytes\n"
     ]
    }
   ],
   "source": [
    "cities.info()"
   ]
  },
  {
   "cell_type": "markdown",
   "metadata": {},
   "source": [
    "# 3. Data Preprocessing\n",
    "#### Converting the categorical data, such as 'college name,' 'City,' and 'Role,' into numerical format."
   ]
  },
  {
   "cell_type": "code",
   "execution_count": 9,
   "metadata": {},
   "outputs": [],
   "source": [
    "# Extract data from 'Tier 1' column and store in 'Tier1' list\n",
    "Tier1 = college['Tier 1'].tolist()\n",
    "\n",
    "# Extract data from 'Tier 2' column and store in 'Tier2' list\n",
    "Tier2 = college['Tier 2'].tolist()\n",
    "\n",
    "# Extract data from 'Tier 3' column and store in 'Tier3' list\n",
    "Tier3 = college['Tier 3'].tolist()"
   ]
  },
  {
   "cell_type": "code",
   "execution_count": 10,
   "metadata": {},
   "outputs": [
    {
     "data": {
      "text/plain": [
       "['IIT Bombay',\n",
       " 'IIT Delhi',\n",
       " 'IIT Kharagpur',\n",
       " 'IIT Madras',\n",
       " 'IIT Kanpur',\n",
       " 'IIT Roorkee',\n",
       " 'IIT Guwahati',\n",
       " 'IIIT Hyderabad',\n",
       " 'BITS Pilani (Pilani Campus)',\n",
       " 'IIT Indore',\n",
       " 'IIT Ropar',\n",
       " 'IIT BHU (Varanasi)',\n",
       " 'IIT ISM Dhanbad',\n",
       " 'DTU',\n",
       " 'NSUT Delhi (NSIT)',\n",
       " 'NIT Tiruchipally (Trichy)',\n",
       " 'NIT Warangal',\n",
       " 'NIT Surathkal (Karnataka)',\n",
       " 'Jadavpur University',\n",
       " 'BITS Pilani (Hyderabad Campus)',\n",
       " 'BITS Pilani (Goa Campus)',\n",
       " 'IIIT Allahabad',\n",
       " nan,\n",
       " nan,\n",
       " nan,\n",
       " nan,\n",
       " nan,\n",
       " nan]"
      ]
     },
     "execution_count": 10,
     "metadata": {},
     "output_type": "execute_result"
    }
   ],
   "source": [
    "# Printing data contained in Tier1\n",
    "\n",
    "Tier1"
   ]
  },
  {
   "cell_type": "code",
   "execution_count": 11,
   "metadata": {},
   "outputs": [
    {
     "data": {
      "text/plain": [
       "['IIIT Bangalore',\n",
       " 'IIIT Delhi',\n",
       " 'IGDTUW',\n",
       " 'NIT Calicut',\n",
       " 'IIITM Gwalior',\n",
       " 'IIIT Lucknow',\n",
       " 'MNNIT Allahabad',\n",
       " 'Punjab Engineering College',\n",
       " 'DAIICT',\n",
       " 'MNIT Jaipur',\n",
       " 'NIT Durgapur',\n",
       " 'VNIT Nagpur',\n",
       " 'LNMIIT',\n",
       " 'BIT Mesra',\n",
       " 'SVNIT Surat',\n",
       " 'NIT Jalandhar',\n",
       " 'NIT Jamshedpur',\n",
       " 'NIT Kurukshetra',\n",
       " 'NIT Patna',\n",
       " 'NIT Raipur',\n",
       " 'NIT Bhopal',\n",
       " 'NIT Rourkela',\n",
       " 'NIT Silchar',\n",
       " 'NIT Sikkim',\n",
       " 'IIIT Jabalpur',\n",
       " 'Jalpaiguri Government Engineering College',\n",
       " 'IIEST/BESU Shibpur',\n",
       " 'R.V. College of Engineering']"
      ]
     },
     "execution_count": 11,
     "metadata": {},
     "output_type": "execute_result"
    }
   ],
   "source": [
    "# Printing data contained in Tier2\n",
    "\n",
    "Tier2"
   ]
  },
  {
   "cell_type": "code",
   "execution_count": 12,
   "metadata": {},
   "outputs": [
    {
     "data": {
      "text/plain": [
       "['Ramaiah Institute of Technology, Bengaluru',\n",
       " 'TIET/Thapar University',\n",
       " 'Manipal Main Campus',\n",
       " 'VIT Vellore',\n",
       " 'SRM Main Campus',\n",
       " 'KIIT, Bhubaneswar',\n",
       " 'Amity University',\n",
       " 'BMS College, Bangalore',\n",
       " 'PES University, Bangalore',\n",
       " 'USIT, Delhi',\n",
       " 'MAIT, Delhi',\n",
       " 'MSIT, Delhi',\n",
       " 'Dayanand College of Engineering, Bangalore',\n",
       " 'Heritage Institute of Technology, Kolkata',\n",
       " 'IEM, Kolkata',\n",
       " 'Techno India, Kolkata',\n",
       " 'Jaypee, Noida',\n",
       " 'Amrita University, Coimbatore',\n",
       " 'Cummins College of Engineering for Women, Pune',\n",
       " nan,\n",
       " nan,\n",
       " nan,\n",
       " nan,\n",
       " nan,\n",
       " nan,\n",
       " nan,\n",
       " nan,\n",
       " nan]"
      ]
     },
     "execution_count": 12,
     "metadata": {},
     "output_type": "execute_result"
    }
   ],
   "source": [
    "# Printing data contained in Tier3\n",
    "\n",
    "Tier3"
   ]
  },
  {
   "cell_type": "code",
   "execution_count": 13,
   "metadata": {},
   "outputs": [],
   "source": [
    "# Label encoding colleges based on their tier classification\n",
    "df['College'] = df['College'].map({college: 1 for college in Tier1} \n",
    "                                | {college: 2 for college in Tier2} \n",
    "                                | {college: 3 for college in Tier3})"
   ]
  },
  {
   "cell_type": "code",
   "execution_count": 14,
   "metadata": {},
   "outputs": [
    {
     "data": {
      "text/html": [
       "<div>\n",
       "<style scoped>\n",
       "    .dataframe tbody tr th:only-of-type {\n",
       "        vertical-align: middle;\n",
       "    }\n",
       "\n",
       "    .dataframe tbody tr th {\n",
       "        vertical-align: top;\n",
       "    }\n",
       "\n",
       "    .dataframe thead th {\n",
       "        text-align: right;\n",
       "    }\n",
       "</style>\n",
       "<table border=\"1\" class=\"dataframe\">\n",
       "  <thead>\n",
       "    <tr style=\"text-align: right;\">\n",
       "      <th></th>\n",
       "      <th>College</th>\n",
       "      <th>City</th>\n",
       "      <th>Role</th>\n",
       "      <th>Previous CTC</th>\n",
       "      <th>Previous job change</th>\n",
       "      <th>Graduation Marks</th>\n",
       "      <th>EXP (Month)</th>\n",
       "      <th>CTC</th>\n",
       "    </tr>\n",
       "  </thead>\n",
       "  <tbody>\n",
       "    <tr>\n",
       "      <th>0</th>\n",
       "      <td>2</td>\n",
       "      <td>Asansol</td>\n",
       "      <td>Manager</td>\n",
       "      <td>55523.0</td>\n",
       "      <td>3</td>\n",
       "      <td>66</td>\n",
       "      <td>19</td>\n",
       "      <td>71406.58</td>\n",
       "    </tr>\n",
       "    <tr>\n",
       "      <th>1</th>\n",
       "      <td>2</td>\n",
       "      <td>Ajmer</td>\n",
       "      <td>Executive</td>\n",
       "      <td>57081.0</td>\n",
       "      <td>1</td>\n",
       "      <td>84</td>\n",
       "      <td>18</td>\n",
       "      <td>68005.87</td>\n",
       "    </tr>\n",
       "    <tr>\n",
       "      <th>2</th>\n",
       "      <td>3</td>\n",
       "      <td>Rajpur Sonarpur</td>\n",
       "      <td>Executive</td>\n",
       "      <td>60347.0</td>\n",
       "      <td>2</td>\n",
       "      <td>52</td>\n",
       "      <td>28</td>\n",
       "      <td>76764.02</td>\n",
       "    </tr>\n",
       "    <tr>\n",
       "      <th>3</th>\n",
       "      <td>3</td>\n",
       "      <td>Ajmer</td>\n",
       "      <td>Executive</td>\n",
       "      <td>49010.0</td>\n",
       "      <td>2</td>\n",
       "      <td>81</td>\n",
       "      <td>33</td>\n",
       "      <td>82092.39</td>\n",
       "    </tr>\n",
       "    <tr>\n",
       "      <th>4</th>\n",
       "      <td>1</td>\n",
       "      <td>Durgapur</td>\n",
       "      <td>Executive</td>\n",
       "      <td>57879.0</td>\n",
       "      <td>4</td>\n",
       "      <td>74</td>\n",
       "      <td>32</td>\n",
       "      <td>73878.10</td>\n",
       "    </tr>\n",
       "  </tbody>\n",
       "</table>\n",
       "</div>"
      ],
      "text/plain": [
       "   College             City       Role  Previous CTC  Previous job change  \\\n",
       "0        2          Asansol    Manager       55523.0                    3   \n",
       "1        2            Ajmer  Executive       57081.0                    1   \n",
       "2        3  Rajpur Sonarpur  Executive       60347.0                    2   \n",
       "3        3            Ajmer  Executive       49010.0                    2   \n",
       "4        1         Durgapur  Executive       57879.0                    4   \n",
       "\n",
       "   Graduation Marks  EXP (Month)       CTC  \n",
       "0                66           19  71406.58  \n",
       "1                84           18  68005.87  \n",
       "2                52           28  76764.02  \n",
       "3                81           33  82092.39  \n",
       "4                74           32  73878.10  "
      ]
     },
     "execution_count": 14,
     "metadata": {},
     "output_type": "execute_result"
    }
   ],
   "source": [
    "df.head()"
   ]
  },
  {
   "cell_type": "code",
   "execution_count": 15,
   "metadata": {},
   "outputs": [],
   "source": [
    "# Extracting lists of metropolitan and non-metropolitan cities from the 'cities' DataFrame\n",
    "\n",
    "metro_city = cities[\"Metrio City\"].tolist()\n",
    "non_metro_city = cities[\"non-metro cities\"].tolist()\n"
   ]
  },
  {
   "cell_type": "code",
   "execution_count": 16,
   "metadata": {},
   "outputs": [],
   "source": [
    "# label encoding(Cities)\n",
    "city_mapping = {city: 1 for city in metro_city}\n",
    "city_mapping.update({city: 0 for city in non_metro_city})\n",
    "\n",
    "df['City'] = df['City'].map(city_mapping)"
   ]
  },
  {
   "cell_type": "code",
   "execution_count": 17,
   "metadata": {},
   "outputs": [],
   "source": [
    "# Convert categorical 'Role' column into binary columns (dummy variables)\n",
    "df = pd.get_dummies(df, columns=['Role'], drop_first=True)"
   ]
  },
  {
   "cell_type": "code",
   "execution_count": 18,
   "metadata": {},
   "outputs": [
    {
     "data": {
      "text/html": [
       "<div>\n",
       "<style scoped>\n",
       "    .dataframe tbody tr th:only-of-type {\n",
       "        vertical-align: middle;\n",
       "    }\n",
       "\n",
       "    .dataframe tbody tr th {\n",
       "        vertical-align: top;\n",
       "    }\n",
       "\n",
       "    .dataframe thead th {\n",
       "        text-align: right;\n",
       "    }\n",
       "</style>\n",
       "<table border=\"1\" class=\"dataframe\">\n",
       "  <thead>\n",
       "    <tr style=\"text-align: right;\">\n",
       "      <th></th>\n",
       "      <th>College</th>\n",
       "      <th>City</th>\n",
       "      <th>Previous CTC</th>\n",
       "      <th>Previous job change</th>\n",
       "      <th>Graduation Marks</th>\n",
       "      <th>EXP (Month)</th>\n",
       "      <th>CTC</th>\n",
       "      <th>Role_Manager</th>\n",
       "    </tr>\n",
       "  </thead>\n",
       "  <tbody>\n",
       "    <tr>\n",
       "      <th>0</th>\n",
       "      <td>2</td>\n",
       "      <td>0</td>\n",
       "      <td>55523.0</td>\n",
       "      <td>3</td>\n",
       "      <td>66</td>\n",
       "      <td>19</td>\n",
       "      <td>71406.58</td>\n",
       "      <td>True</td>\n",
       "    </tr>\n",
       "    <tr>\n",
       "      <th>1</th>\n",
       "      <td>2</td>\n",
       "      <td>0</td>\n",
       "      <td>57081.0</td>\n",
       "      <td>1</td>\n",
       "      <td>84</td>\n",
       "      <td>18</td>\n",
       "      <td>68005.87</td>\n",
       "      <td>False</td>\n",
       "    </tr>\n",
       "    <tr>\n",
       "      <th>2</th>\n",
       "      <td>3</td>\n",
       "      <td>0</td>\n",
       "      <td>60347.0</td>\n",
       "      <td>2</td>\n",
       "      <td>52</td>\n",
       "      <td>28</td>\n",
       "      <td>76764.02</td>\n",
       "      <td>False</td>\n",
       "    </tr>\n",
       "    <tr>\n",
       "      <th>3</th>\n",
       "      <td>3</td>\n",
       "      <td>0</td>\n",
       "      <td>49010.0</td>\n",
       "      <td>2</td>\n",
       "      <td>81</td>\n",
       "      <td>33</td>\n",
       "      <td>82092.39</td>\n",
       "      <td>False</td>\n",
       "    </tr>\n",
       "    <tr>\n",
       "      <th>4</th>\n",
       "      <td>1</td>\n",
       "      <td>0</td>\n",
       "      <td>57879.0</td>\n",
       "      <td>4</td>\n",
       "      <td>74</td>\n",
       "      <td>32</td>\n",
       "      <td>73878.10</td>\n",
       "      <td>False</td>\n",
       "    </tr>\n",
       "  </tbody>\n",
       "</table>\n",
       "</div>"
      ],
      "text/plain": [
       "   College  City  Previous CTC  Previous job change  Graduation Marks  \\\n",
       "0        2     0       55523.0                    3                66   \n",
       "1        2     0       57081.0                    1                84   \n",
       "2        3     0       60347.0                    2                52   \n",
       "3        3     0       49010.0                    2                81   \n",
       "4        1     0       57879.0                    4                74   \n",
       "\n",
       "   EXP (Month)       CTC  Role_Manager  \n",
       "0           19  71406.58          True  \n",
       "1           18  68005.87         False  \n",
       "2           28  76764.02         False  \n",
       "3           33  82092.39         False  \n",
       "4           32  73878.10         False  "
      ]
     },
     "execution_count": 18,
     "metadata": {},
     "output_type": "execute_result"
    }
   ],
   "source": [
    "df.head()"
   ]
  },
  {
   "cell_type": "code",
   "execution_count": 19,
   "metadata": {},
   "outputs": [
    {
     "name": "stdout",
     "output_type": "stream",
     "text": [
      "<class 'pandas.core.frame.DataFrame'>\n",
      "RangeIndex: 1589 entries, 0 to 1588\n",
      "Data columns (total 8 columns):\n",
      " #   Column               Non-Null Count  Dtype  \n",
      "---  ------               --------------  -----  \n",
      " 0   College              1589 non-null   int64  \n",
      " 1   City                 1589 non-null   int64  \n",
      " 2   Previous CTC         1589 non-null   float64\n",
      " 3   Previous job change  1589 non-null   int64  \n",
      " 4   Graduation Marks     1589 non-null   int64  \n",
      " 5   EXP (Month)          1589 non-null   int64  \n",
      " 6   CTC                  1589 non-null   float64\n",
      " 7   Role_Manager         1589 non-null   bool   \n",
      "dtypes: bool(1), float64(2), int64(5)\n",
      "memory usage: 88.6 KB\n"
     ]
    }
   ],
   "source": [
    "df.info()"
   ]
  },
  {
   "cell_type": "code",
   "execution_count": 20,
   "metadata": {},
   "outputs": [
    {
     "data": {
      "text/plain": [
       "College                0\n",
       "City                   0\n",
       "Previous CTC           0\n",
       "Previous job change    0\n",
       "Graduation Marks       0\n",
       "EXP (Month)            0\n",
       "CTC                    0\n",
       "Role_Manager           0\n",
       "dtype: int64"
      ]
     },
     "execution_count": 20,
     "metadata": {},
     "output_type": "execute_result"
    }
   ],
   "source": [
    "# Checking missing values in data\n",
    "\n",
    "df.isna().sum()"
   ]
  },
  {
   "cell_type": "code",
   "execution_count": 21,
   "metadata": {},
   "outputs": [
    {
     "name": "stdout",
     "output_type": "stream",
     "text": [
      "<class 'pandas.core.frame.DataFrame'>\n",
      "RangeIndex: 1589 entries, 0 to 1588\n",
      "Data columns (total 8 columns):\n",
      " #   Column               Non-Null Count  Dtype  \n",
      "---  ------               --------------  -----  \n",
      " 0   College              1589 non-null   int64  \n",
      " 1   City                 1589 non-null   int64  \n",
      " 2   Previous CTC         1589 non-null   float64\n",
      " 3   Previous job change  1589 non-null   int64  \n",
      " 4   Graduation Marks     1589 non-null   int64  \n",
      " 5   EXP (Month)          1589 non-null   int64  \n",
      " 6   CTC                  1589 non-null   float64\n",
      " 7   Role_Manager         1589 non-null   bool   \n",
      "dtypes: bool(1), float64(2), int64(5)\n",
      "memory usage: 88.6 KB\n"
     ]
    }
   ],
   "source": [
    "# Information about data\n",
    "df.info()"
   ]
  },
  {
   "cell_type": "code",
   "execution_count": 22,
   "metadata": {},
   "outputs": [
    {
     "data": {
      "text/html": [
       "<div>\n",
       "<style scoped>\n",
       "    .dataframe tbody tr th:only-of-type {\n",
       "        vertical-align: middle;\n",
       "    }\n",
       "\n",
       "    .dataframe tbody tr th {\n",
       "        vertical-align: top;\n",
       "    }\n",
       "\n",
       "    .dataframe thead th {\n",
       "        text-align: right;\n",
       "    }\n",
       "</style>\n",
       "<table border=\"1\" class=\"dataframe\">\n",
       "  <thead>\n",
       "    <tr style=\"text-align: right;\">\n",
       "      <th></th>\n",
       "      <th>College</th>\n",
       "      <th>City</th>\n",
       "      <th>Previous CTC</th>\n",
       "      <th>Previous job change</th>\n",
       "      <th>Graduation Marks</th>\n",
       "      <th>EXP (Month)</th>\n",
       "      <th>CTC</th>\n",
       "    </tr>\n",
       "  </thead>\n",
       "  <tbody>\n",
       "    <tr>\n",
       "      <th>count</th>\n",
       "      <td>1589.000000</td>\n",
       "      <td>1589.000000</td>\n",
       "      <td>1589.000000</td>\n",
       "      <td>1589.000000</td>\n",
       "      <td>1589.000000</td>\n",
       "      <td>1589.000000</td>\n",
       "      <td>1589.000000</td>\n",
       "    </tr>\n",
       "    <tr>\n",
       "      <th>mean</th>\n",
       "      <td>1.975456</td>\n",
       "      <td>0.514160</td>\n",
       "      <td>55518.453744</td>\n",
       "      <td>2.528634</td>\n",
       "      <td>59.855255</td>\n",
       "      <td>39.044682</td>\n",
       "      <td>75353.278798</td>\n",
       "    </tr>\n",
       "    <tr>\n",
       "      <th>std</th>\n",
       "      <td>0.838330</td>\n",
       "      <td>0.499957</td>\n",
       "      <td>6655.218445</td>\n",
       "      <td>1.123918</td>\n",
       "      <td>14.935139</td>\n",
       "      <td>14.108875</td>\n",
       "      <td>12587.288237</td>\n",
       "    </tr>\n",
       "    <tr>\n",
       "      <th>min</th>\n",
       "      <td>1.000000</td>\n",
       "      <td>0.000000</td>\n",
       "      <td>36990.000000</td>\n",
       "      <td>1.000000</td>\n",
       "      <td>35.000000</td>\n",
       "      <td>18.000000</td>\n",
       "      <td>53020.320000</td>\n",
       "    </tr>\n",
       "    <tr>\n",
       "      <th>25%</th>\n",
       "      <td>1.000000</td>\n",
       "      <td>0.000000</td>\n",
       "      <td>50518.000000</td>\n",
       "      <td>2.000000</td>\n",
       "      <td>46.000000</td>\n",
       "      <td>26.000000</td>\n",
       "      <td>66902.350000</td>\n",
       "    </tr>\n",
       "    <tr>\n",
       "      <th>50%</th>\n",
       "      <td>2.000000</td>\n",
       "      <td>1.000000</td>\n",
       "      <td>55291.000000</td>\n",
       "      <td>3.000000</td>\n",
       "      <td>60.000000</td>\n",
       "      <td>39.000000</td>\n",
       "      <td>73028.670000</td>\n",
       "    </tr>\n",
       "    <tr>\n",
       "      <th>75%</th>\n",
       "      <td>3.000000</td>\n",
       "      <td>1.000000</td>\n",
       "      <td>60109.000000</td>\n",
       "      <td>4.000000</td>\n",
       "      <td>73.000000</td>\n",
       "      <td>51.000000</td>\n",
       "      <td>80588.670000</td>\n",
       "    </tr>\n",
       "    <tr>\n",
       "      <th>max</th>\n",
       "      <td>3.000000</td>\n",
       "      <td>1.000000</td>\n",
       "      <td>77911.000000</td>\n",
       "      <td>4.000000</td>\n",
       "      <td>85.000000</td>\n",
       "      <td>64.000000</td>\n",
       "      <td>123416.990000</td>\n",
       "    </tr>\n",
       "  </tbody>\n",
       "</table>\n",
       "</div>"
      ],
      "text/plain": [
       "           College         City  Previous CTC  Previous job change  \\\n",
       "count  1589.000000  1589.000000   1589.000000          1589.000000   \n",
       "mean      1.975456     0.514160  55518.453744             2.528634   \n",
       "std       0.838330     0.499957   6655.218445             1.123918   \n",
       "min       1.000000     0.000000  36990.000000             1.000000   \n",
       "25%       1.000000     0.000000  50518.000000             2.000000   \n",
       "50%       2.000000     1.000000  55291.000000             3.000000   \n",
       "75%       3.000000     1.000000  60109.000000             4.000000   \n",
       "max       3.000000     1.000000  77911.000000             4.000000   \n",
       "\n",
       "       Graduation Marks  EXP (Month)            CTC  \n",
       "count       1589.000000  1589.000000    1589.000000  \n",
       "mean          59.855255    39.044682   75353.278798  \n",
       "std           14.935139    14.108875   12587.288237  \n",
       "min           35.000000    18.000000   53020.320000  \n",
       "25%           46.000000    26.000000   66902.350000  \n",
       "50%           60.000000    39.000000   73028.670000  \n",
       "75%           73.000000    51.000000   80588.670000  \n",
       "max           85.000000    64.000000  123416.990000  "
      ]
     },
     "execution_count": 22,
     "metadata": {},
     "output_type": "execute_result"
    }
   ],
   "source": [
    "# Statistical info about numerical data\n",
    "\n",
    "df.describe()"
   ]
  },
  {
   "cell_type": "markdown",
   "metadata": {},
   "source": [
    "\n",
    "## Outliers Treatment\n",
    "Outliers are extreme values in a dataset that deviate significantly from the rest of the data.\n",
    "\n",
    "Outliers treatment involves handling these extreme values to prevent them from distorting analysis or impacting model performance. This can include removal, transformation, imputation, or the use of robust models to appropriately handle them."
   ]
  },
  {
   "cell_type": "code",
   "execution_count": 23,
   "metadata": {},
   "outputs": [
    {
     "data": {
      "text/plain": [
       "<Axes: >"
      ]
     },
     "execution_count": 23,
     "metadata": {},
     "output_type": "execute_result"
    },
    {
     "data": {
      "image/png": "[encoded data removed]",
      "text/plain": [
       "<Figure size 640x480 with 1 Axes>"
      ]
     },
     "metadata": {},
     "output_type": "display_data"
    }
   ],
   "source": [
    "# Using seaborn library to plot box plot for detection of outliers\n",
    "sns.boxplot(df['Previous CTC'])"
   ]
  },
  {
   "cell_type": "code",
   "execution_count": 24,
   "metadata": {},
   "outputs": [
    {
     "data": {
      "text/plain": [
       "<Axes: >"
      ]
     },
     "execution_count": 24,
     "metadata": {},
     "output_type": "execute_result"
    },
    {
     "data": {
      "image/png": "[encoded data removed]",
      "text/plain": [
       "<Figure size 640x480 with 1 Axes>"
      ]
     },
     "metadata": {},
     "output_type": "display_data"
    }
   ],
   "source": [
    "sns.boxplot(df['Graduation Marks'])"
   ]
  },
  {
   "cell_type": "code",
   "execution_count": 25,
   "metadata": {},
   "outputs": [
    {
     "data": {
      "text/plain": [
       "<Axes: >"
      ]
     },
     "execution_count": 25,
     "metadata": {},
     "output_type": "execute_result"
    },
    {
     "data": {
      "image/png": "[encoded data removed]",
      "text/plain": [
       "<Figure size 640x480 with 1 Axes>"
      ]
     },
     "metadata": {},
     "output_type": "display_data"
    }
   ],
   "source": [
    "sns.boxplot(df['EXP (Month)'])"
   ]
  },
  {
   "cell_type": "code",
   "execution_count": 26,
   "metadata": {},
   "outputs": [
    {
     "data": {
      "text/plain": [
       "<Axes: >"
      ]
     },
     "execution_count": 26,
     "metadata": {},
     "output_type": "execute_result"
    },
    {
     "data": {
      "image/png": "[encoded data removed]",
      "text/plain": [
       "<Figure size 640x480 with 1 Axes>"
      ]
     },
     "metadata": {},
     "output_type": "display_data"
    }
   ],
   "source": [
    "sns.boxplot(df['CTC'])"
   ]
  },
  {
   "cell_type": "code",
   "execution_count": 27,
   "metadata": {},
   "outputs": [
    {
     "data": {
      "text/html": [
       "<div>\n",
       "<style scoped>\n",
       "    .dataframe tbody tr th:only-of-type {\n",
       "        vertical-align: middle;\n",
       "    }\n",
       "\n",
       "    .dataframe tbody tr th {\n",
       "        vertical-align: top;\n",
       "    }\n",
       "\n",
       "    .dataframe thead th {\n",
       "        text-align: right;\n",
       "    }\n",
       "</style>\n",
       "<table border=\"1\" class=\"dataframe\">\n",
       "  <thead>\n",
       "    <tr style=\"text-align: right;\">\n",
       "      <th></th>\n",
       "      <th>College</th>\n",
       "      <th>City</th>\n",
       "      <th>Previous CTC</th>\n",
       "      <th>Previous job change</th>\n",
       "      <th>Graduation Marks</th>\n",
       "      <th>EXP (Month)</th>\n",
       "      <th>CTC</th>\n",
       "      <th>Role_Manager</th>\n",
       "    </tr>\n",
       "  </thead>\n",
       "  <tbody>\n",
       "    <tr>\n",
       "      <th>College</th>\n",
       "      <td>1.000000</td>\n",
       "      <td>-0.014946</td>\n",
       "      <td>0.041979</td>\n",
       "      <td>-0.055060</td>\n",
       "      <td>0.003539</td>\n",
       "      <td>0.011752</td>\n",
       "      <td>-0.029592</td>\n",
       "      <td>-0.014749</td>\n",
       "    </tr>\n",
       "    <tr>\n",
       "      <th>City</th>\n",
       "      <td>-0.014946</td>\n",
       "      <td>1.000000</td>\n",
       "      <td>0.004644</td>\n",
       "      <td>0.051670</td>\n",
       "      <td>-0.018616</td>\n",
       "      <td>-0.023613</td>\n",
       "      <td>-0.020365</td>\n",
       "      <td>-0.048671</td>\n",
       "    </tr>\n",
       "    <tr>\n",
       "      <th>Previous CTC</th>\n",
       "      <td>0.041979</td>\n",
       "      <td>0.004644</td>\n",
       "      <td>1.000000</td>\n",
       "      <td>0.005756</td>\n",
       "      <td>-0.032976</td>\n",
       "      <td>0.119163</td>\n",
       "      <td>0.258000</td>\n",
       "      <td>0.012321</td>\n",
       "    </tr>\n",
       "    <tr>\n",
       "      <th>Previous job change</th>\n",
       "      <td>-0.055060</td>\n",
       "      <td>0.051670</td>\n",
       "      <td>0.005756</td>\n",
       "      <td>1.000000</td>\n",
       "      <td>0.019267</td>\n",
       "      <td>0.023488</td>\n",
       "      <td>0.011370</td>\n",
       "      <td>-0.017150</td>\n",
       "    </tr>\n",
       "    <tr>\n",
       "      <th>Graduation Marks</th>\n",
       "      <td>0.003539</td>\n",
       "      <td>-0.018616</td>\n",
       "      <td>-0.032976</td>\n",
       "      <td>0.019267</td>\n",
       "      <td>1.000000</td>\n",
       "      <td>-0.057061</td>\n",
       "      <td>-0.005450</td>\n",
       "      <td>0.017858</td>\n",
       "    </tr>\n",
       "    <tr>\n",
       "      <th>EXP (Month)</th>\n",
       "      <td>0.011752</td>\n",
       "      <td>-0.023613</td>\n",
       "      <td>0.119163</td>\n",
       "      <td>0.023488</td>\n",
       "      <td>-0.057061</td>\n",
       "      <td>1.000000</td>\n",
       "      <td>0.301115</td>\n",
       "      <td>-0.026751</td>\n",
       "    </tr>\n",
       "    <tr>\n",
       "      <th>CTC</th>\n",
       "      <td>-0.029592</td>\n",
       "      <td>-0.020365</td>\n",
       "      <td>0.258000</td>\n",
       "      <td>0.011370</td>\n",
       "      <td>-0.005450</td>\n",
       "      <td>0.301115</td>\n",
       "      <td>1.000000</td>\n",
       "      <td>0.621311</td>\n",
       "    </tr>\n",
       "    <tr>\n",
       "      <th>Role_Manager</th>\n",
       "      <td>-0.014749</td>\n",
       "      <td>-0.048671</td>\n",
       "      <td>0.012321</td>\n",
       "      <td>-0.017150</td>\n",
       "      <td>0.017858</td>\n",
       "      <td>-0.026751</td>\n",
       "      <td>0.621311</td>\n",
       "      <td>1.000000</td>\n",
       "    </tr>\n",
       "  </tbody>\n",
       "</table>\n",
       "</div>"
      ],
      "text/plain": [
       "                      College      City  Previous CTC  Previous job change  \\\n",
       "College              1.000000 -0.014946      0.041979            -0.055060   \n",
       "City                -0.014946  1.000000      0.004644             0.051670   \n",
       "Previous CTC         0.041979  0.004644      1.000000             0.005756   \n",
       "Previous job change -0.055060  0.051670      0.005756             1.000000   \n",
       "Graduation Marks     0.003539 -0.018616     -0.032976             0.019267   \n",
       "EXP (Month)          0.011752 -0.023613      0.119163             0.023488   \n",
       "CTC                 -0.029592 -0.020365      0.258000             0.011370   \n",
       "Role_Manager        -0.014749 -0.048671      0.012321            -0.017150   \n",
       "\n",
       "                     Graduation Marks  EXP (Month)       CTC  Role_Manager  \n",
       "College                      0.003539     0.011752 -0.029592     -0.014749  \n",
       "City                        -0.018616    -0.023613 -0.020365     -0.048671  \n",
       "Previous CTC                -0.032976     0.119163  0.258000      0.012321  \n",
       "Previous job change          0.019267     0.023488  0.011370     -0.017150  \n",
       "Graduation Marks             1.000000    -0.057061 -0.005450      0.017858  \n",
       "EXP (Month)                 -0.057061     1.000000  0.301115     -0.026751  \n",
       "CTC                         -0.005450     0.301115  1.000000      0.621311  \n",
       "Role_Manager                 0.017858    -0.026751  0.621311      1.000000  "
      ]
     },
     "execution_count": 27,
     "metadata": {},
     "output_type": "execute_result"
    }
   ],
   "source": [
    "#Calculate the correlation matrix\n",
    "corr=df.corr()\n",
    "corr"
   ]
  },
  {
   "cell_type": "markdown",
   "metadata": {},
   "source": [
    "#### Observation:\n",
    "* CTC and EXP (Months): There is a moderate positive correlation (0.301115), indicating a significant positive relationship between current salary (CTC) and months of work experience.\n",
    "\n",
    "* CTC and Role_Manager: A strong positive correlation (0.621311) suggests a strong positive relationship between current salary (CTC) and the role being a manager.\n"
   ]
  },
  {
   "cell_type": "code",
   "execution_count": 28,
   "metadata": {},
   "outputs": [
    {
     "data": {
      "text/plain": [
       "<Axes: >"
      ]
     },
     "execution_count": 28,
     "metadata": {},
     "output_type": "execute_result"
    },
    {
     "data": {
      "image/png": "[encoded data removed]",
      "text/plain": [
       "<Figure size 640x480 with 2 Axes>"
      ]
     },
     "metadata": {},
     "output_type": "display_data"
    }
   ],
   "source": [
    "# Visual representation of corr\n",
    "# Heatmap\n",
    "sns.heatmap(data=corr)"
   ]
  },
  {
   "cell_type": "markdown",
   "metadata": {},
   "source": [
    "#### Outliers present in Previous CTC column"
   ]
  },
  {
   "cell_type": "code",
   "execution_count": 29,
   "metadata": {},
   "outputs": [],
   "source": [
    "percent25 = df['Previous CTC'].quantile(0.25)\n",
    "percent75 = df['Previous CTC'].quantile(0.75)"
   ]
  },
  {
   "cell_type": "code",
   "execution_count": 30,
   "metadata": {},
   "outputs": [],
   "source": [
    "iqr = percent75-percent25"
   ]
  },
  {
   "cell_type": "code",
   "execution_count": 31,
   "metadata": {},
   "outputs": [],
   "source": [
    "upper_limit = percent75 + 1.5*iqr\n",
    "lower_limit = percent25 - 1.5*iqr"
   ]
  },
  {
   "cell_type": "raw",
   "metadata": {
    "vscode": {
     "languageId": "raw"
    }
   },
   "source": [
    "df[(df['Previous CTC'] < lower_limit) | (df['Previous CTC'] > upper_limit)]"
   ]
  },
  {
   "cell_type": "markdown",
   "metadata": {
    "vscode": {
     "languageId": "raw"
    }
   },
   "source": [
    "In the above DataFrame, there are outliers present in the \"Previous CTC\" column. However, these outliers are not extreme. In my opinion, keeping this data may not significantly affect my model.\n"
   ]
  },
  {
   "cell_type": "markdown",
   "metadata": {},
   "source": [
    "#### Outliers present in CTC column"
   ]
  },
  {
   "cell_type": "code",
   "execution_count": 32,
   "metadata": {},
   "outputs": [],
   "source": [
    "percent25 = df['CTC'].quantile(0.25)\n",
    "percent75 = df['CTC'].quantile(0.75)"
   ]
  },
  {
   "cell_type": "code",
   "execution_count": 33,
   "metadata": {},
   "outputs": [],
   "source": [
    "iqr = percent75-percent25"
   ]
  },
  {
   "cell_type": "code",
   "execution_count": 34,
   "metadata": {},
   "outputs": [],
   "source": [
    "upper_limit = percent75 + 1.5*iqr\n",
    "lower_limit = percent25 - 1.5*iqr"
   ]
  },
  {
   "cell_type": "code",
   "execution_count": 35,
   "metadata": {},
   "outputs": [
    {
     "data": {
      "text/html": [
       "<div>\n",
       "<style scoped>\n",
       "    .dataframe tbody tr th:only-of-type {\n",
       "        vertical-align: middle;\n",
       "    }\n",
       "\n",
       "    .dataframe tbody tr th {\n",
       "        vertical-align: top;\n",
       "    }\n",
       "\n",
       "    .dataframe thead th {\n",
       "        text-align: right;\n",
       "    }\n",
       "</style>\n",
       "<table border=\"1\" class=\"dataframe\">\n",
       "  <thead>\n",
       "    <tr style=\"text-align: right;\">\n",
       "      <th></th>\n",
       "      <th>College</th>\n",
       "      <th>City</th>\n",
       "      <th>Previous CTC</th>\n",
       "      <th>Previous job change</th>\n",
       "      <th>Graduation Marks</th>\n",
       "      <th>EXP (Month)</th>\n",
       "      <th>CTC</th>\n",
       "      <th>Role_Manager</th>\n",
       "    </tr>\n",
       "  </thead>\n",
       "  <tbody>\n",
       "    <tr>\n",
       "      <th>14</th>\n",
       "      <td>3</td>\n",
       "      <td>0</td>\n",
       "      <td>66487.0</td>\n",
       "      <td>1</td>\n",
       "      <td>50</td>\n",
       "      <td>27</td>\n",
       "      <td>103595.83</td>\n",
       "      <td>True</td>\n",
       "    </tr>\n",
       "    <tr>\n",
       "      <th>29</th>\n",
       "      <td>2</td>\n",
       "      <td>0</td>\n",
       "      <td>65172.0</td>\n",
       "      <td>1</td>\n",
       "      <td>44</td>\n",
       "      <td>31</td>\n",
       "      <td>107138.14</td>\n",
       "      <td>True</td>\n",
       "    </tr>\n",
       "    <tr>\n",
       "      <th>30</th>\n",
       "      <td>1</td>\n",
       "      <td>0</td>\n",
       "      <td>58529.0</td>\n",
       "      <td>1</td>\n",
       "      <td>65</td>\n",
       "      <td>22</td>\n",
       "      <td>102763.61</td>\n",
       "      <td>True</td>\n",
       "    </tr>\n",
       "    <tr>\n",
       "      <th>34</th>\n",
       "      <td>1</td>\n",
       "      <td>0</td>\n",
       "      <td>60894.0</td>\n",
       "      <td>4</td>\n",
       "      <td>80</td>\n",
       "      <td>28</td>\n",
       "      <td>118651.89</td>\n",
       "      <td>True</td>\n",
       "    </tr>\n",
       "    <tr>\n",
       "      <th>38</th>\n",
       "      <td>2</td>\n",
       "      <td>0</td>\n",
       "      <td>57485.0</td>\n",
       "      <td>1</td>\n",
       "      <td>77</td>\n",
       "      <td>35</td>\n",
       "      <td>103774.34</td>\n",
       "      <td>True</td>\n",
       "    </tr>\n",
       "    <tr>\n",
       "      <th>...</th>\n",
       "      <td>...</td>\n",
       "      <td>...</td>\n",
       "      <td>...</td>\n",
       "      <td>...</td>\n",
       "      <td>...</td>\n",
       "      <td>...</td>\n",
       "      <td>...</td>\n",
       "      <td>...</td>\n",
       "    </tr>\n",
       "    <tr>\n",
       "      <th>1447</th>\n",
       "      <td>3</td>\n",
       "      <td>0</td>\n",
       "      <td>59099.0</td>\n",
       "      <td>2</td>\n",
       "      <td>67</td>\n",
       "      <td>63</td>\n",
       "      <td>103305.30</td>\n",
       "      <td>True</td>\n",
       "    </tr>\n",
       "    <tr>\n",
       "      <th>1461</th>\n",
       "      <td>1</td>\n",
       "      <td>0</td>\n",
       "      <td>55440.0</td>\n",
       "      <td>4</td>\n",
       "      <td>72</td>\n",
       "      <td>44</td>\n",
       "      <td>112826.26</td>\n",
       "      <td>True</td>\n",
       "    </tr>\n",
       "    <tr>\n",
       "      <th>1513</th>\n",
       "      <td>3</td>\n",
       "      <td>0</td>\n",
       "      <td>58639.0</td>\n",
       "      <td>2</td>\n",
       "      <td>46</td>\n",
       "      <td>63</td>\n",
       "      <td>109108.12</td>\n",
       "      <td>True</td>\n",
       "    </tr>\n",
       "    <tr>\n",
       "      <th>1523</th>\n",
       "      <td>2</td>\n",
       "      <td>1</td>\n",
       "      <td>70258.0</td>\n",
       "      <td>4</td>\n",
       "      <td>38</td>\n",
       "      <td>36</td>\n",
       "      <td>115126.75</td>\n",
       "      <td>True</td>\n",
       "    </tr>\n",
       "    <tr>\n",
       "      <th>1580</th>\n",
       "      <td>1</td>\n",
       "      <td>1</td>\n",
       "      <td>53027.0</td>\n",
       "      <td>4</td>\n",
       "      <td>69</td>\n",
       "      <td>55</td>\n",
       "      <td>106846.34</td>\n",
       "      <td>False</td>\n",
       "    </tr>\n",
       "  </tbody>\n",
       "</table>\n",
       "<p>94 rows × 8 columns</p>\n",
       "</div>"
      ],
      "text/plain": [
       "      College  City  Previous CTC  Previous job change  Graduation Marks  \\\n",
       "14          3     0       66487.0                    1                50   \n",
       "29          2     0       65172.0                    1                44   \n",
       "30          1     0       58529.0                    1                65   \n",
       "34          1     0       60894.0                    4                80   \n",
       "38          2     0       57485.0                    1                77   \n",
       "...       ...   ...           ...                  ...               ...   \n",
       "1447        3     0       59099.0                    2                67   \n",
       "1461        1     0       55440.0                    4                72   \n",
       "1513        3     0       58639.0                    2                46   \n",
       "1523        2     1       70258.0                    4                38   \n",
       "1580        1     1       53027.0                    4                69   \n",
       "\n",
       "      EXP (Month)        CTC  Role_Manager  \n",
       "14             27  103595.83          True  \n",
       "29             31  107138.14          True  \n",
       "30             22  102763.61          True  \n",
       "34             28  118651.89          True  \n",
       "38             35  103774.34          True  \n",
       "...           ...        ...           ...  \n",
       "1447           63  103305.30          True  \n",
       "1461           44  112826.26          True  \n",
       "1513           63  109108.12          True  \n",
       "1523           36  115126.75          True  \n",
       "1580           55  106846.34         False  \n",
       "\n",
       "[94 rows x 8 columns]"
      ]
     },
     "execution_count": 35,
     "metadata": {},
     "output_type": "execute_result"
    }
   ],
   "source": [
    "df[(df['CTC'] < lower_limit) | (df['CTC'] > upper_limit)]"
   ]
  },
  {
   "cell_type": "markdown",
   "metadata": {
    "vscode": {
     "languageId": "perl"
    }
   },
   "source": [
    "As observed above, there are some outliers in the \"CTC\" column, but they are not extremely severe to significantly impact predictions. Therefore, in my opinion, retaining these outliers in the dataset is more beneficial than removing them for machine learning purposes.\n"
   ]
  },
  {
   "cell_type": "markdown",
   "metadata": {},
   "source": [
    "### Conclusion on Detection of Outliers:\n",
    "- There were no extreme outliers present in our dataset that could significantly impact our machine learning model. Additionally, the summary statistics from the describe function indicate the absence of extreme outliers.\n",
    "- While there are some outliers in \"Previous CTC\" and \"CTC,\" I believe these outliers will not significantly affect my model.\n",
    "- The heatmap illustrates a relationship between \"Role_manager\" and \"CTC,\" as well as \"Previous CTC\" and \"CTC.\"\n"
   ]
  },
  {
   "cell_type": "markdown",
   "metadata": {},
   "source": [
    "# 4. Data Splitting\n",
    "\n",
    "#### Separate the data into dependent and independent variables.\n"
   ]
  },
  {
   "cell_type": "code",
   "execution_count": 36,
   "metadata": {},
   "outputs": [],
   "source": [
    "y = df.pop('CTC')\n",
    "X = df"
   ]
  },
  {
   "cell_type": "markdown",
   "metadata": {},
   "source": [
    "# 5. Model Selection"
   ]
  },
  {
   "cell_type": "markdown",
   "metadata": {},
   "source": [
    "## 5.1. Simple Linear Regression"
   ]
  },
  {
   "cell_type": "code",
   "execution_count": 37,
   "metadata": {},
   "outputs": [
    {
     "name": "stdout",
     "output_type": "stream",
     "text": [
      "                            OLS Regression Results                            \n",
      "==============================================================================\n",
      "Dep. Variable:                    CTC   R-squared:                       0.534\n",
      "Model:                            OLS   Adj. R-squared:                  0.532\n",
      "Method:                 Least Squares   F-statistic:                     259.1\n",
      "Date:                Sat, 20 Apr 2024   Prob (F-statistic):          4.70e-257\n",
      "Time:                        11:12:41   Log-Likelihood:                -16648.\n",
      "No. Observations:                1589   AIC:                         3.331e+04\n",
      "Df Residuals:                    1581   BIC:                         3.335e+04\n",
      "Df Model:                           7                                         \n",
      "Covariance Type:            nonrobust                                         \n",
      "=======================================================================================\n",
      "                          coef    std err          t      P>|t|      [0.025      0.975]\n",
      "---------------------------------------------------------------------------------------\n",
      "const                3.842e+04   2192.660     17.523      0.000    3.41e+04    4.27e+04\n",
      "College              -481.5147    258.382     -1.864      0.063    -988.321      25.292\n",
      "City                  380.8308    433.455      0.879      0.380    -469.377    1231.039\n",
      "Previous CTC            0.4101      0.033     12.526      0.000       0.346       0.474\n",
      "Previous job change   126.5653    192.887      0.656      0.512    -251.776     504.906\n",
      "Graduation Marks        6.2362     14.502      0.430      0.667     -22.208      34.681\n",
      "EXP (Month)           261.3444     15.460     16.904      0.000     231.020     291.669\n",
      "Role_Manager         1.949e+04    534.694     36.446      0.000    1.84e+04    2.05e+04\n",
      "==============================================================================\n",
      "Omnibus:                       49.726   Durbin-Watson:                   2.052\n",
      "Prob(Omnibus):                  0.000   Jarque-Bera (JB):               55.299\n",
      "Skew:                           0.408   Prob(JB):                     9.82e-13\n",
      "Kurtosis:                       3.411   Cond. No.                     5.68e+05\n",
      "==============================================================================\n",
      "\n",
      "Notes:\n",
      "[1] Standard Errors assume that the covariance matrix of the errors is correctly specified.\n",
      "[2] The condition number is large, 5.68e+05. This might indicate that there are\n",
      "strong multicollinearity or other numerical problems.\n"
     ]
    }
   ],
   "source": [
    "# Convert boolean column to numerical (0 and 1)\n",
    "X['Role_Manager'] = X['Role_Manager'].astype(int)\n",
    "\n",
    "import statsmodels.api as sm\n",
    "\n",
    "# Add a constant term (intercept) to the feature matrix\n",
    "X_with_const = sm.add_constant(X)\n",
    "\n",
    "# Fit an Ordinary Least Squares (OLS) linear regression model\n",
    "ols_model = sm.OLS(y, X_with_const)\n",
    "ols_results = ols_model.fit()\n",
    "\n",
    "# Display a summary of the regression results\n",
    "ols_summary = ols_results.summary()\n",
    "\n",
    "# Print the summary to view the regression statistics\n",
    "print(ols_summary)\n"
   ]
  },
  {
   "cell_type": "markdown",
   "metadata": {},
   "source": [
    "### Simple Linear Regression Observations\n",
    "\n",
    "**R-squared:**\n",
    "\n",
    "The R-squared value is 0.534, meaning that about 53.4% of the variation in the dependent variable (CTC) is explained by the independent variables. This suggests that the model captures a moderate portion of the data's variability.\n"
   ]
  },
  {
   "cell_type": "markdown",
   "metadata": {},
   "source": [
    "## 5.2. Linear Regression"
   ]
  },
  {
   "cell_type": "code",
   "execution_count": 38,
   "metadata": {},
   "outputs": [
    {
     "name": "stdout",
     "output_type": "stream",
     "text": [
      "Intercept : 39229.566126835605\n",
      "coefficients: [-5.17509158e+02  4.82800374e+02  4.22242899e-01  8.74331790e+00\n",
      "  1.94023127e+00  2.43718541e+02  1.86020838e+04]\n",
      "Mean Squared Error: 73950131.2132985\n",
      "Root Mean Squared Error: 8599.42621419002\n",
      "R-Squared: 0.5933517958385095\n"
     ]
    }
   ],
   "source": [
    "# Train-Test Split: Splitting the data into training and testing sets\n",
    "# with 80% for training and 20% for testing.\n",
    "X_train, X_test, y_train, y_test = train_test_split(X, y, test_size=0.2, random_state=42)\n",
    "\n",
    "# Linear Regression Model Initialization and Training:\n",
    "# Creating an instance of the LinearRegression model and fitting it to the training data.\n",
    "lm2 = LinearRegression()\n",
    "lm2.fit(X_train, y_train)\n",
    "\n",
    "# Printing the intercept and coefficients of the trained linear regression model:\n",
    "print(\"Intercept :\", lm2.intercept_)\n",
    "print(\"coefficients:\", lm2.coef_)\n",
    "\n",
    "# Model Evaluation Metrics:\n",
    "\n",
    "# R-squared (R2): Measures the proportion of variance in the dependent variable explained by the independent variables.\n",
    "# Higher values indicate a better fit.\n",
    "r2 = r2_score(y_test, lm2.predict(X_test))\n",
    "\n",
    "# Mean Squared Error (MSE): Measures the average squared difference between predicted and actual values.\n",
    "# It quantifies the model's accuracy.\n",
    "mse = mean_squared_error(y, lm2.predict(X))\n",
    "\n",
    "# Root Mean Squared Error (RMSE): Square root of MSE, providing a measure of average prediction error\n",
    "# in the same units as the target variable.\n",
    "rmse = np.sqrt(mse)\n",
    "\n",
    "# Printing the model evaluation metrics:\n",
    "print(\"Mean Squared Error:\", mse)\n",
    "print(\"Root Mean Squared Error:\", rmse)\n",
    "print(\"R-Squared:\", r2)\n"
   ]
  },
  {
   "cell_type": "markdown",
   "metadata": {},
   "source": [
    "### Scatter Plot: Predicted CTC vs. Actual CTC"
   ]
  },
  {
   "cell_type": "code",
   "execution_count": 39,
   "metadata": {},
   "outputs": [
    {
     "data": {
      "image/png": "[encoded data removed]",
      "text/plain": [
       "<Figure size 800x600 with 1 Axes>"
      ]
     },
     "metadata": {},
     "output_type": "display_data"
    }
   ],
   "source": [
    "# Create a scatter plot\n",
    "plt.figure(figsize=(8, 6))\n",
    "plt.scatter(y_test, lm2.predict(X_test), alpha=0.5, color='darkviolet', label='Predictions')\n",
    "\n",
    "# Plot the perfect prediction line\n",
    "plt.plot([min(y_test), max(y_test)], [min(y_test), max(y_test)], 'k--', lw=2, label='Perfect Prediction')\n",
    "\n",
    "# Add labels and title\n",
    "plt.xlabel('Actual CTC')\n",
    "plt.ylabel('Predicted CTC')\n",
    "plt.title('Predicted vs. Actual CTC')\n",
    "\n",
    "# Include error metrics in the plot\n",
    "r2 = r2_score(y_test, lm2.predict(X_test))\n",
    "mse = mean_squared_error(y_test, lm2.predict(X_test))\n",
    "rmse = np.sqrt(mse)\n",
    "plt.text(0.08, 0.8, f'R-squared: {r2:.2f}\\nMSE: {mse:.2f}\\nRMSE: {rmse:.2f}', transform=plt.gca().transAxes, bbox=dict(facecolor='white', edgecolor='gray', boxstyle='round,pad=0.5'))\n",
    "\n",
    "# Move the legend to the upper left corner\n",
    "plt.legend(loc='upper right')\n",
    "\n",
    "# Display the plot\n",
    "plt.show()\n"
   ]
  },
  {
   "cell_type": "markdown",
   "metadata": {},
   "source": [
    "### Observations on Linear Regression\n",
    "\n",
    "**Summary:**\n",
    "\n",
    "The Root Mean Squared Error (RMSE) and Mean Squared Error (MSE) values are relatively high, indicating that the model's predictions show a notable average deviation from the actual values. The R-squared value, though moderate, suggests that the model explains approximately 59% of the variance in the target variable. While not exceptionally high, this R-squared value can be considered reasonable, depending on the specific application and data complexity."
   ]
  },
  {
   "cell_type": "markdown",
   "metadata": {},
   "source": [
    "## 5.3. Ridge Regression"
   ]
  },
  {
   "cell_type": "code",
   "execution_count": 40,
   "metadata": {},
   "outputs": [
    {
     "name": "stdout",
     "output_type": "stream",
     "text": [
      "Test R-squared: 0.5932150226490305\n",
      "Train R-squared: 0.5137744044805612\n",
      "Mean Squared Error (Test): 77388795.36074264\n",
      "Mean Squared Error (Train): 73096345.59097072\n"
     ]
    }
   ],
   "source": [
    "# Data Splitting: Split the dataset into training and testing sets.\n",
    "X_train, X_test, y_train, y_test = train_test_split(X, y, test_size=0.2, random_state=42)\n",
    "\n",
    "# Feature scaling using StandardScaler\n",
    "scaler = StandardScaler()\n",
    "X_train_scaled = scaler.fit_transform(X_train)\n",
    "X_test_scaled = scaler.transform(X_test)\n",
    "\n",
    "# Create a Ridge regression model with alpha=1.0\n",
    "ridge_model = Ridge(alpha=1.0)\n",
    "\n",
    "# Fit the Ridge model to the scaled training data\n",
    "ridge_model.fit(X_train_scaled, y_train)\n",
    "\n",
    "# Make predictions on the scaled test data\n",
    "y_pred = ridge_model.predict(X_test_scaled)\n",
    "\n",
    "# Calculate R-squared for the test and training data\n",
    "test_r2_score = r2_score(y_test, y_pred)\n",
    "train_r2_score = r2_score(y_train, ridge_model.predict(X_train_scaled))\n",
    "\n",
    "# Calculate Mean Squared Error (MSE) for test and train data\n",
    "mse_test = mean_squared_error(y_test, y_pred)\n",
    "mse_train = mean_squared_error(y_train, ridge_model.predict(X_train_scaled))\n",
    "\n",
    "# Print evaluation metrics\n",
    "print(\"Test R-squared:\", test_r2_score)\n",
    "print(\"Train R-squared:\", train_r2_score)\n",
    "print(\"Mean Squared Error (Test):\", mse_test)\n",
    "print(\"Mean Squared Error (Train):\", mse_train)\n"
   ]
  },
  {
   "cell_type": "markdown",
   "metadata": {},
   "source": [
    "### Scatter Plot: Predicted CTC vs. Actual CTC"
   ]
  },
  {
   "cell_type": "code",
   "execution_count": 41,
   "metadata": {},
   "outputs": [
    {
     "data": {
      "image/png": "[encoded data removed]",
      "text/plain": [
       "<Figure size 800x600 with 1 Axes>"
      ]
     },
     "metadata": {},
     "output_type": "display_data"
    }
   ],
   "source": [
    "# Create a figure with a specified size\n",
    "plt.figure(figsize=(8, 6))\n",
    "\n",
    "# Scatter plot of predicted vs. actual CTC values with green points\n",
    "plt.scatter(y_test, y_pred, color='darkviolet', label='Predictions')\n",
    "\n",
    "# Plot a diagonal line for perfect predictions in black dashed style\n",
    "plt.plot([min(y_test), max(y_test)], [min(y_test), max(y_test)], color='k', linestyle='--', lw=2, label='Perfect Prediction')\n",
    "\n",
    "# Add labels and title\n",
    "plt.xlabel('Actual CTC')\n",
    "plt.ylabel('Predicted CTC')\n",
    "plt.title('Predicted vs. Actual CTC')\n",
    "\n",
    "# Add a legend to the plot\n",
    "plt.legend()\n",
    "\n",
    "# Display the plot\n",
    "plt.show()\n"
   ]
  },
  {
   "cell_type": "markdown",
   "metadata": {},
   "source": [
    "### Observations on Ridge Regression\n",
    "\n",
    "**Test R-squared vs. Train R-squared:**\n",
    "\n",
    "The Test R-squared is higher than the Train R-squared, indicating that the model generalizes well to new, unseen data. This is a positive sign, as it suggests that the model is not overfitting the training data, which would result in poor generalization to new data.\n",
    "\n",
    "**Test R-squared (0.5932):**\n",
    "\n",
    "The Test R-squared is moderately high, indicating that the Ridge Regression model captures a significant portion of the variance in the test data. This suggests that the model has predictive power for the dependent variable (CTC).\n",
    "\n",
    "**Train R-squared (0.5137):**\n",
    "\n",
    "The Train R-squared is also moderate, indicating that the model explains a reasonable amount of the variability in the dependent variable within the training dataset. In summary, the Ridge Regression model appears to perform reasonably well in explaining the variation in CTC. The fact that the Test R-squared is higher than the Train R-squared suggests good generalization without significant overfitting. However, there may still be room for improvement if desired.\n"
   ]
  },
  {
   "cell_type": "markdown",
   "metadata": {},
   "source": [
    "## 5.4. Validation Curve"
   ]
  },
  {
   "cell_type": "code",
   "execution_count": 42,
   "metadata": {},
   "outputs": [
    {
     "data": {
      "image/png": "[encoded data removed]",
      "text/plain": [
       "<Figure size 800x600 with 1 Axes>"
      ]
     },
     "metadata": {},
     "output_type": "display_data"
    }
   ],
   "source": [
    "from sklearn.model_selection import validation_curve\n",
    "# Range of alpha values to test\n",
    "param_range = np.logspace(-2, 8, 100)\n",
    "\n",
    "# Calculate validation curve using the training data\n",
    "train_scores, test_scores = validation_curve(\n",
    "    estimator=ridge_model,\n",
    "    X=X_train_scaled,\n",
    "    y=y_train,\n",
    "    param_name='alpha',\n",
    "    param_range=param_range,\n",
    "    cv=5,\n",
    "    scoring='r2'\n",
    ")\n",
    "\n",
    "mean_train_scores = np.mean(train_scores, axis=1)\n",
    "mean_test_scores = np.mean(test_scores, axis=1)\n",
    "\n",
    "\n",
    "plt.figure(figsize=(8, 6))\n",
    "plt.semilogx(param_range, mean_train_scores, label='Training R-squared', color='darkviolet')\n",
    "plt.semilogx(param_range, mean_test_scores, label='Validation R-squared', color='green')  \n",
    "plt.xlabel('Alpha (Regularization Parameter)')\n",
    "plt.ylabel('R-squared')\n",
    "plt.title('Validation Curve for Ridge Regression')\n",
    "plt.legend()\n",
    "plt.grid(True)\n",
    "plt.show()"
   ]
  },
  {
   "cell_type": "code",
   "execution_count": 43,
   "metadata": {},
   "outputs": [
    {
     "data": {
      "text/html": [
       "<style>#sk-container-id-1 {color: black;background-color: white;}#sk-container-id-1 pre{padding: 0;}#sk-container-id-1 div.sk-toggleable {background-color: white;}#sk-container-id-1 label.sk-toggleable__label {cursor: pointer;display: block;width: 100%;margin-bottom: 0;padding: 0.3em;box-sizing: border-box;text-align: center;}#sk-container-id-1 label.sk-toggleable__label-arrow:before {content: \"▸\";float: left;margin-right: 0.25em;color: #696969;}#sk-container-id-1 label.sk-toggleable__label-arrow:hover:before {color: black;}#sk-container-id-1 div.sk-estimator:hover label.sk-toggleable__label-arrow:before {color: black;}#sk-container-id-1 div.sk-toggleable__content {max-height: 0;max-width: 0;overflow: hidden;text-align: left;background-color: #f0f8ff;}#sk-container-id-1 div.sk-toggleable__content pre {margin: 0.2em;color: black;border-radius: 0.25em;background-color: #f0f8ff;}#sk-container-id-1 input.sk-toggleable__control:checked~div.sk-toggleable__content {max-height: 200px;max-width: 100%;overflow: auto;}#sk-container-id-1 input.sk-toggleable__control:checked~label.sk-toggleable__label-arrow:before {content: \"▾\";}#sk-container-id-1 div.sk-estimator input.sk-toggleable__control:checked~label.sk-toggleable__label {background-color: #d4ebff;}#sk-container-id-1 div.sk-label input.sk-toggleable__control:checked~label.sk-toggleable__label {background-color: #d4ebff;}#sk-container-id-1 input.sk-hidden--visually {border: 0;clip: rect(1px 1px 1px 1px);clip: rect(1px, 1px, 1px, 1px);height: 1px;margin: -1px;overflow: hidden;padding: 0;position: absolute;width: 1px;}#sk-container-id-1 div.sk-estimator {font-family: monospace;background-color: #f0f8ff;border: 1px dotted black;border-radius: 0.25em;box-sizing: border-box;margin-bottom: 0.5em;}#sk-container-id-1 div.sk-estimator:hover {background-color: #d4ebff;}#sk-container-id-1 div.sk-parallel-item::after {content: \"\";width: 100%;border-bottom: 1px solid gray;flex-grow: 1;}#sk-container-id-1 div.sk-label:hover label.sk-toggleable__label {background-color: #d4ebff;}#sk-container-id-1 div.sk-serial::before {content: \"\";position: absolute;border-left: 1px solid gray;box-sizing: border-box;top: 0;bottom: 0;left: 50%;z-index: 0;}#sk-container-id-1 div.sk-serial {display: flex;flex-direction: column;align-items: center;background-color: white;padding-right: 0.2em;padding-left: 0.2em;position: relative;}#sk-container-id-1 div.sk-item {position: relative;z-index: 1;}#sk-container-id-1 div.sk-parallel {display: flex;align-items: stretch;justify-content: center;background-color: white;position: relative;}#sk-container-id-1 div.sk-item::before, #sk-container-id-1 div.sk-parallel-item::before {content: \"\";position: absolute;border-left: 1px solid gray;box-sizing: border-box;top: 0;bottom: 0;left: 50%;z-index: -1;}#sk-container-id-1 div.sk-parallel-item {display: flex;flex-direction: column;z-index: 1;position: relative;background-color: white;}#sk-container-id-1 div.sk-parallel-item:first-child::after {align-self: flex-end;width: 50%;}#sk-container-id-1 div.sk-parallel-item:last-child::after {align-self: flex-start;width: 50%;}#sk-container-id-1 div.sk-parallel-item:only-child::after {width: 0;}#sk-container-id-1 div.sk-dashed-wrapped {border: 1px dashed gray;margin: 0 0.4em 0.5em 0.4em;box-sizing: border-box;padding-bottom: 0.4em;background-color: white;}#sk-container-id-1 div.sk-label label {font-family: monospace;font-weight: bold;display: inline-block;line-height: 1.2em;}#sk-container-id-1 div.sk-label-container {text-align: center;}#sk-container-id-1 div.sk-container {/* jupyter's `normalize.less` sets `[hidden] { display: none; }` but bootstrap.min.css set `[hidden] { display: none !important; }` so we also need the `!important` here to be able to override the default hidden behavior on the sphinx rendered scikit-learn.org. See: https://github.com/scikit-learn/scikit-learn/issues/21755 */display: inline-block !important;position: relative;}#sk-container-id-1 div.sk-text-repr-fallback {display: none;}</style><div id=\"sk-container-id-1\" class=\"sk-top-container\"><div class=\"sk-text-repr-fallback\"><pre>Ridge(alpha=6.7341506577508214)</pre><b>In a Jupyter environment, please rerun this cell to show the HTML representation or trust the notebook. <br />On GitHub, the HTML representation is unable to render, please try loading this page with nbviewer.org.</b></div><div class=\"sk-container\" hidden><div class=\"sk-item\"><div class=\"sk-estimator sk-toggleable\"><input class=\"sk-toggleable__control sk-hidden--visually\" id=\"sk-estimator-id-1\" type=\"checkbox\" checked><label for=\"sk-estimator-id-1\" class=\"sk-toggleable__label sk-toggleable__label-arrow\">Ridge</label><div class=\"sk-toggleable__content\"><pre>Ridge(alpha=6.7341506577508214)</pre></div></div></div></div></div>"
      ],
      "text/plain": [
       "Ridge(alpha=6.7341506577508214)"
      ]
     },
     "execution_count": 43,
     "metadata": {},
     "output_type": "execute_result"
    }
   ],
   "source": [
    "np.where(mean_test_scores==max(mean_test_scores))\n",
    "lm_r_best = Ridge(alpha=param_range[28])\n",
    "lm_r_best.fit(X_test_scaled,y_test)"
   ]
  },
  {
   "cell_type": "code",
   "execution_count": 44,
   "metadata": {},
   "outputs": [
    {
     "name": "stdout",
     "output_type": "stream",
     "text": [
      "Test R2 score with best param: 0.6203626076398991\n",
      "Train R2 score with best param: 0.4851025306203909\n",
      "Test MSE with best param: 72224103.89873701\n",
      "Train MSE with best param: 77406709.38040628\n"
     ]
    }
   ],
   "source": [
    "r2_score_test = r2_score(y_test,lm_r_best.predict(X_test_scaled))\n",
    "r2_score_train = r2_score(y_train,lm_r_best.predict(X_train_scaled))\n",
    "mse_test = mean_squared_error(y_test, lm_r_best.predict(X_test_scaled))\n",
    "mse_train =  mean_squared_error(y_train, lm_r_best.predict(X_train_scaled))\n",
    "print(\"Test R2 score with best param:\",r2_score_test)\n",
    "print(\"Train R2 score with best param:\",r2_score_train)\n",
    "print(\"Test MSE with best param:\",mse_test)\n",
    "print(\"Train MSE with best param:\",mse_train)"
   ]
  },
  {
   "cell_type": "markdown",
   "metadata": {},
   "source": [
    "### Observations on Validation Curve\n",
    "\n",
    "**Model Performance:**\n",
    "\n",
    "The Test R-squared (R2) score exceeds the Train R-squared (R2) score, which is generally favorable. This suggests that the model is reasonably generalizing to new, unseen data.\n",
    "\n",
    "**Summary:**\n",
    "\n",
    "Overall, the model's performance, with R-squared values of 0.6203 (Test) and 0.4851 (Train), indicates that the model has predictive capability without significant overfitting to the training data.\n"
   ]
  },
  {
   "cell_type": "markdown",
   "metadata": {},
   "source": [
    "## 5.5. Grid Search"
   ]
  },
  {
   "cell_type": "code",
   "execution_count": 45,
   "metadata": {},
   "outputs": [
    {
     "name": "stdout",
     "output_type": "stream",
     "text": [
      "Best Hyperparameters: {'alpha': 10.0}\n",
      "Test R-squared with Best Model: 0.5919707789026041\n",
      "Train R-squared with Best Model: 0.513744174691862\n",
      "Mean Squared Error (Test) with Best Model: 77625506.47357213\n",
      "Mean Squared Error (Train) with Best Model: 73100890.16267213\n"
     ]
    }
   ],
   "source": [
    "from sklearn.model_selection import GridSearchCV\n",
    "\n",
    "# Define the hyperparameter grid\n",
    "param_grid = {\n",
    "    'alpha': [0.01, 0.1, 1.0, 10.0]\n",
    "}\n",
    "\n",
    "# Initialize the GridSearchCV with the Ridge model and the hyperparameter grid\n",
    "grid_search = GridSearchCV(estimator=ridge_model, param_grid=param_grid, cv=5, scoring='r2')\n",
    "\n",
    "# Perform the grid search on the training data\n",
    "grid_search.fit(X_train_scaled, y_train)\n",
    "\n",
    "# Get the best hyperparameters found by Grid Search\n",
    "best_params = grid_search.best_params_\n",
    "print(\"Best Hyperparameters:\", best_params)\n",
    "\n",
    "# Get the best Ridge model with the optimal hyperparameters\n",
    "best_ridge_model = grid_search.best_estimator_\n",
    "\n",
    "# Predict on the test set using the best model\n",
    "y_pred = best_ridge_model.predict(X_test_scaled)\n",
    "\n",
    "# Evaluate the best model on the test set\n",
    "test_r2_score = r2_score(y_test, y_pred)\n",
    "train_r2_score = r2_score(y_train, best_ridge_model.predict(X_train_scaled))\n",
    "mse_test = mean_squared_error(y_test, y_pred)\n",
    "mse_train = mean_squared_error(y_train, best_ridge_model.predict(X_train_scaled))\n",
    "\n",
    "# Print evaluation metrics\n",
    "print(\"Test R-squared with Best Model:\", test_r2_score)\n",
    "print(\"Train R-squared with Best Model:\", train_r2_score)\n",
    "print(\"Mean Squared Error (Test) with Best Model:\", mse_test)\n",
    "print(\"Mean Squared Error (Train) with Best Model:\", mse_train)\n"
   ]
  },
  {
   "cell_type": "markdown",
   "metadata": {},
   "source": [
    "### Observations on Grid Search\n",
    "\n",
    "**Model Evaluation:**\n",
    "\n",
    "The Test R-squared (R2) is slightly higher than the Train R-squared (R2), which is generally desirable, indicating reasonable generalization to new, unseen data.\n",
    "\n",
    "**Summary:**\n",
    "\n",
    "In summary, the best model's performance, with R-squared values of 0.5919 (Test) and 0.5137 (Train), demonstrates predictive capability without significant overfitting to the training data.\n"
   ]
  },
  {
   "cell_type": "markdown",
   "metadata": {},
   "source": [
    "## 5.6. Lasso Regression"
   ]
  },
  {
   "cell_type": "code",
   "execution_count": 46,
   "metadata": {},
   "outputs": [
    {
     "name": "stdout",
     "output_type": "stream",
     "text": [
      "Lasso Regression Mean Squared Error (MSE): 77363437.09536627\n",
      "Lasso Regression R-squared (Test): 0.5933483153480408\n",
      "Lasso Regression R-squared (Train): 0.5137747137455719\n"
     ]
    }
   ],
   "source": [
    "from sklearn.linear_model import Lasso\n",
    "\n",
    "# Split the data into training and testing sets\n",
    "X_train, X_test, y_train, y_test = train_test_split(X, y, test_size=0.2, random_state=42)\n",
    "\n",
    "# Feature scaling (standardization)\n",
    "scaler = StandardScaler()\n",
    "X_train_scaled = scaler.fit_transform(X_train)\n",
    "X_test_scaled = scaler.transform(X_test)\n",
    "\n",
    "# Initialize and train the Lasso regression model\n",
    "lasso_model = Lasso(alpha=0.1)  # You can tune the alpha parameter for regularization strength\n",
    "lasso_model.fit(X_train_scaled, y_train)\n",
    "\n",
    "# Predict on the test set\n",
    "y_pred = lasso_model.predict(X_test_scaled)\n",
    "\n",
    "# Calculate Mean Squared Error (MSE) to evaluate the model\n",
    "mse = mean_squared_error(y_test, y_pred)\n",
    "\n",
    "# Calculate R-squared scores for both test and train sets\n",
    "r2_score_test = r2_score(y_test, y_pred)\n",
    "r2_score_train = r2_score(y_train, lasso_model.predict(X_train_scaled))\n",
    "\n",
    "# Print evaluation metrics\n",
    "print(\"Lasso Regression Mean Squared Error (MSE):\", mse)\n",
    "print(\"Lasso Regression R-squared (Test):\", r2_score_test)\n",
    "print(\"Lasso Regression R-squared (Train):\", r2_score_train)"
   ]
  },
  {
   "cell_type": "markdown",
   "metadata": {},
   "source": [
    "### Observations on Lasso Regression\n",
    "\n",
    "**Model Evaluation:**\n",
    "\n",
    "The Mean Squared Error (MSE) of 77,363,437.095 indicates that the model's predictions closely match the actual values.\n",
    "\n",
    "**R-squared (R2) Scores:**\n",
    "\n",
    "- Test R2 score is 0.5933, capturing a substantial portion of the variance.\n",
    "- Train R2 score is 0.5137, explaining a moderate amount of the variance in the training data.\n",
    "\n",
    "**Comparison:**\n",
    "\n",
    "Comparing R2 scores, the test data's R2 score is higher than the train data's, suggesting good generalization to new, unseen data.\n"
   ]
  },
  {
   "cell_type": "markdown",
   "metadata": {},
   "source": [
    "## 5.7. Random Forest"
   ]
  },
  {
   "cell_type": "code",
   "execution_count": 47,
   "metadata": {},
   "outputs": [
    {
     "name": "stdout",
     "output_type": "stream",
     "text": [
      "Random Forest Test R-squared: 0.6368790873379051\n",
      "Random Forest Train R-squared: 0.9501845070245194\n",
      "Random Forest Mean Squared Error (MSE): 69081926.7324302\n"
     ]
    }
   ],
   "source": [
    "from sklearn.ensemble import RandomForestRegressor\n",
    "from sklearn.model_selection import train_test_split, cross_val_score\n",
    "from sklearn.metrics import accuracy_score\n",
    "\n",
    "# Feature scaling (standardization)\n",
    "scaler = StandardScaler()\n",
    "X_train_scaled = scaler.fit_transform(X_train)\n",
    "X_test_scaled = scaler.transform(X_test)\n",
    "\n",
    "# Build the Random Forest regressor with hyperparameter tuning and regularization\n",
    "random_forest_model = RandomForestRegressor(\n",
    "    n_estimators=1000,       # Number of trees in the forest\n",
    "    max_depth=10,            # Maximum depth of the tree\n",
    "    min_samples_split=2,     # Minimum number of samples required to split an internal node\n",
    "    min_samples_leaf=1,      # Minimum number of samples required to be at a leaf node\n",
    "    random_state=42          # Random seed for reproducibility\n",
    ")\n",
    "\n",
    "# Perform cross-validation to evaluate the model's performance\n",
    "cv_scores = cross_val_score(random_forest_model, X_train_scaled, y_train, cv=5)\n",
    "\n",
    "# Initialize and train the Random Forest Regressor\n",
    "random_forest_model = RandomForestRegressor(n_estimators=1000, random_state=42)\n",
    "random_forest_model.fit(X_train_scaled, y_train)\n",
    "\n",
    "# Predict on the test set\n",
    "y_pred = random_forest_model.predict(X_test_scaled)\n",
    "\n",
    "# Evaluate the model\n",
    "test_r2_score = r2_score(y_test, y_pred)\n",
    "train_r2_score = r2_score(y_train, random_forest_model.predict(X_train_scaled))\n",
    "mse = mean_squared_error(y_test, y_pred)\n",
    "\n",
    "# Print evaluation metrics\n",
    "print(\"Random Forest Test R-squared:\", test_r2_score)\n",
    "print(\"Random Forest Train R-squared:\", train_r2_score)\n",
    "print(\"Random Forest Mean Squared Error (MSE):\", mse)\n"
   ]
  },
  {
   "cell_type": "code",
   "execution_count": 48,
   "metadata": {},
   "outputs": [
    {
     "name": "stdout",
     "output_type": "stream",
     "text": [
      "Best Hyperparameters: {'max_depth': None, 'min_samples_leaf': 1, 'min_samples_split': 2, 'n_estimators': 200}\n",
      "Test R-squared Score (After Hyperparameter Tuning): 0.6390142699636836\n",
      "Train R-squared Score (After Hyperparameter Tuning): 0.9490722760071735\n",
      "Test MSE (After Hyperparameter Tuning): 68675718.98021615\n"
     ]
    }
   ],
   "source": [
    "# Define hyperparameters for tuning\n",
    "param_grid = {\n",
    "    'n_estimators': [50, 100, 200],\n",
    "    'max_depth': [None, 10, 20],\n",
    "    'min_samples_split': [2, 5, 10],\n",
    "    'min_samples_leaf': [1, 2, 4]\n",
    "}\n",
    "\n",
    "# Perform Grid Search with 5-fold cross-validation\n",
    "grid_search_r = GridSearchCV(estimator=random_forest_model, param_grid=param_grid, cv=5)\n",
    "grid_search_r.fit(X_train_scaled, y_train)\n",
    "\n",
    "# Get the best model from the grid search\n",
    "best_rf_model = grid_search_r.best_estimator_\n",
    "\n",
    "# Predict on the test set\n",
    "y_pred = best_rf_model.predict(X_test_scaled)\n",
    "\n",
    "# Calculate R-squared score on the test set\n",
    "test_r2_score = r2_score(y_test, y_pred)\n",
    "train_r2_score = r2_score(y_train, best_rf_model.predict(X_train_scaled))\n",
    "mse = mean_squared_error(y_test, y_pred)\n",
    "\n",
    "# Print results\n",
    "print(\"Best Hyperparameters:\", grid_search_r.best_params_)\n",
    "print(\"Test R-squared Score (After Hyperparameter Tuning):\", test_r2_score)\n",
    "print(\"Train R-squared Score (After Hyperparameter Tuning):\", train_r2_score)\n",
    "print(\"Test MSE (After Hyperparameter Tuning):\", mse)\n",
    "\n",
    "#Note: This may take up to 4-5 minutes."
   ]
  },
  {
   "cell_type": "markdown",
   "metadata": {},
   "source": [
    "### Observations on Random Forest\n",
    "\n",
    "**Model Evaluation:**\n",
    "\n",
    "The Test R-squared (0.6390) indicates that the Random Forest model captures a substantial portion of the variance in the test data, demonstrating strong predictive performance on unseen data. The Train R-squared (0.9490) suggests a good fit to the training data.\n",
    "\n",
    "**Comparison:**\n",
    "\n",
    "Comparing the Test and Train R-squared values, the Test R-squared is slightly lower than the Train R-squared, which is a typical and desirable pattern. This suggests effective generalization without significant overfitting.\n",
    "\n",
    "**Summary:**\n",
    "\n",
    "The Random Forest model shows promise with high R-squared values on both training and test data, indicating its ability to capture data patterns and make accurate predictions. However, further evaluation metrics, cross-validation, and model robustness exploration are essential. Additionally, hyperparameter tuning likely enhances the model's generalization capabilities.\n"
   ]
  },
  {
   "cell_type": "markdown",
   "metadata": {},
   "source": [
    "### 5.8. KNN Regression"
   ]
  },
  {
   "cell_type": "code",
   "execution_count": 49,
   "metadata": {},
   "outputs": [
    {
     "name": "stdout",
     "output_type": "stream",
     "text": [
      "Test R-squared Score (KNN Regression): 0.569019356314086\n",
      "Train R-squared Score (KNN Regression): 0.6611685126099736\n",
      "Mean Squared Error (MSE): 81991899.14988843\n"
     ]
    }
   ],
   "source": [
    "from sklearn.neighbors import KNeighborsRegressor\n",
    "from sklearn.metrics import r2_score, mean_squared_error\n",
    "\n",
    "# Build the KNN regressor\n",
    "knn_regressor = KNeighborsRegressor(n_neighbors=5, n_jobs=-1)  # You can set the number of neighbors (K) as desired\n",
    "\n",
    "# Train the model on the training data\n",
    "knn_regressor.fit(X_train_scaled, y_train)\n",
    "\n",
    "# Make predictions on the test set\n",
    "y_pred = knn_regressor.predict(X_test_scaled)\n",
    "\n",
    "# Calculate R-squared scores for test and train sets\n",
    "test_r2_score = r2_score(y_test, y_pred)\n",
    "train_r2_score = r2_score(y_train, knn_regressor.predict(X_train_scaled))\n",
    "\n",
    "# Calculate Mean Squared Error (MSE)\n",
    "mse = mean_squared_error(y_test, y_pred)\n",
    "\n",
    "# Print evaluation metrics\n",
    "print(\"Test R-squared Score (KNN Regression):\", test_r2_score)\n",
    "print(\"Train R-squared Score (KNN Regression):\", train_r2_score)\n",
    "print(\"Mean Squared Error (MSE):\", mse)"
   ]
  },
  {
   "cell_type": "markdown",
   "metadata": {},
   "source": [
    "### Observations on KNN Regression\n",
    "\n",
    "**Model Evaluation:**\n",
    "\n",
    "The Test R-squared Score for KNN Regression is 0.5690, while the Train R-squared Score is 0.6612. The Mean Squared Error (MSE) is 81991899.1499.\n",
    "\n",
    "**Analysis:**\n",
    "\n",
    "These results suggest that the KNN Regression model is overfitting since the Train R-squared score is higher than the Test R-squared score. Moreover, the relatively high MSE indicates significant deviations in the model's predictions from actual values.\n",
    "\n",
    "**Overfitting Indicators:**\n",
    "\n",
    "When the Train R-squared score substantially exceeds the Test R-squared score, it implies that the model is memorizing the training data rather than generalizing well to new, unseen data.\n",
    "\n",
    "**Consideration:**\n",
    "\n",
    "The KNN algorithm, being non-parametric and sensitive to data size and distribution, may not be the best choice for this dataset.\n"
   ]
  },
  {
   "cell_type": "markdown",
   "metadata": {},
   "source": [
    "### 5.9. Gradient Boosting"
   ]
  },
  {
   "cell_type": "code",
   "execution_count": 50,
   "metadata": {},
   "outputs": [
    {
     "name": "stdout",
     "output_type": "stream",
     "text": [
      "Gradient Boosting Test R-squared: 0.6447831947605608\n",
      "Gradient Boosting Train R-squared: 0.9461178456190225\n",
      "Gradient Boosting Mean Squared Error (MSE): 67578210.06170993\n"
     ]
    }
   ],
   "source": [
    "from sklearn.ensemble import GradientBoostingRegressor\n",
    "\n",
    "# Feature scaling (standardization)\n",
    "scaler = StandardScaler()\n",
    "X_train_scaled = scaler.fit_transform(X_train)\n",
    "X_test_scaled = scaler.transform(X_test)\n",
    "\n",
    "# Initialize and train the Gradient Boosting Regressor\n",
    "gradient_boosting_model = GradientBoostingRegressor(n_estimators=1000, learning_rate=0.1, random_state=42)\n",
    "gradient_boosting_model.fit(X_train_scaled, y_train)\n",
    "\n",
    "# Predict on the test set\n",
    "y_pred = gradient_boosting_model.predict(X_test_scaled)\n",
    "\n",
    "# Evaluate the model\n",
    "test_r2_score = r2_score(y_test, y_pred)\n",
    "train_r2_score = r2_score(y_train, gradient_boosting_model.predict(X_train_scaled))\n",
    "mse = mean_squared_error(y_test, y_pred)\n",
    "\n",
    "# Print evaluation metrics\n",
    "print(\"Gradient Boosting Test R-squared:\", test_r2_score)\n",
    "print(\"Gradient Boosting Train R-squared:\", train_r2_score)\n",
    "print(\"Gradient Boosting Mean Squared Error (MSE):\", mse)"
   ]
  },
  {
   "cell_type": "markdown",
   "metadata": {},
   "source": [
    "### Observations on Gradient Boosting\n",
    "\n",
    "**Model Evaluation:**\n",
    "\n",
    "The Gradient Boosting model demonstrates superior performance, as shown by the R-squared values. It generalizes effectively to unseen data, as indicated by the identical Test R-squared. Additionally, it fits the training data well, achieving a higher Train R-squared.\n"
   ]
  },
  {
   "cell_type": "markdown",
   "metadata": {},
   "source": [
    "### 5.10. Support Vector Regression"
   ]
  },
  {
   "cell_type": "code",
   "execution_count": 51,
   "metadata": {},
   "outputs": [
    {
     "name": "stdout",
     "output_type": "stream",
     "text": [
      "Best SVR Train R-squared: 0.3269721438658799\n",
      "Best SVR Test R-squared: 0.33600912364758073\n",
      "Best SVR Test MSE: 126320923.61440071\n",
      "Best Hyperparameters: {'C': 10.0, 'epsilon': 0.2, 'gamma': 'scale', 'kernel': 'linear'}\n"
     ]
    }
   ],
   "source": [
    "from sklearn.svm import SVR\n",
    "from sklearn.model_selection import train_test_split, GridSearchCV\n",
    "from sklearn.preprocessing import StandardScaler\n",
    "from sklearn.metrics import r2_score, mean_squared_error\n",
    "\n",
    "# Split the data into training and testing sets\n",
    "X_train, X_test, y_train, y_test = train_test_split(X, y, test_size=0.2, random_state=42)\n",
    "\n",
    "# Feature scaling (standardization)\n",
    "scaler = StandardScaler()\n",
    "X_train_scaled = scaler.fit_transform(X_train)\n",
    "X_test_scaled = scaler.transform(X_test)\n",
    "\n",
    "# Set the hyperparameters to search\n",
    "param_grid = {\n",
    "    'C': [0.01, 0.1, 1.0, 10.0],  # Regularization parameter\n",
    "    'kernel': ['linear', 'rbf', 'poly'],  # Kernel type\n",
    "    'gamma': ['scale', 'auto', 0.1, 0.01],  # Kernel coefficient for 'rbf' and 'poly'\n",
    "    'epsilon': [0.01, 0.1, 0.2]  # Epsilon parameter in the SVR model\n",
    "}\n",
    "\n",
    "# Initialize the SVR model\n",
    "svr_model = SVR()\n",
    "\n",
    "# Perform Grid Search with cross-validation to find the best hyperparameters\n",
    "grid_search = GridSearchCV(svr_model, param_grid, cv=5, scoring='r2')\n",
    "grid_search.fit(X_train_scaled, y_train)\n",
    "\n",
    "# Get the best SVR model with the optimized hyperparameters\n",
    "best_svr_model = grid_search.best_estimator_\n",
    "\n",
    "# Predict on the test set\n",
    "y_pred = best_svr_model.predict(X_test_scaled)\n",
    "\n",
    "# Evaluate the model\n",
    "test_r2_score = r2_score(y_test, y_pred)\n",
    "train_r2_score = r2_score(y_train, best_svr_model.predict(X_train_scaled))\n",
    "mse = mean_squared_error(y_test, y_pred)\n",
    "\n",
    "# Print evaluation metrics and best hyperparameters\n",
    "print(\"Best SVR Train R-squared:\", train_r2_score)\n",
    "print(\"Best SVR Test R-squared:\", test_r2_score)\n",
    "print(\"Best SVR Test MSE:\", mse)\n",
    "print(\"Best Hyperparameters:\", grid_search.best_params_)\n",
    "\n",
    "# This may take some time.."
   ]
  },
  {
   "cell_type": "markdown",
   "metadata": {},
   "source": [
    "### Observations on Support Vector Regression\n",
    "\n",
    "**Model Evaluation:**\n",
    "\n",
    "The Test R-squared is higher than the Train R-squared, as expected. This suggests that the SVR model generalizes better to unseen data than to the training data.\n",
    "\n",
    "**Interpreting the results:**\n",
    "\n",
    "The SVR model appears to capture a significant portion of the variance in the test data, indicating decent predictive performance on unseen data. However, its performance on the training data is relatively weaker, suggesting potential overfitting, where the model may have learned noise from the training data rather than generalizable patterns.\n"
   ]
  },
  {
   "cell_type": "markdown",
   "metadata": {},
   "source": [
    "### 5.11. XG Boost"
   ]
  },
  {
   "cell_type": "code",
   "execution_count": 52,
   "metadata": {},
   "outputs": [],
   "source": [
    "# Import necessary libraries\n",
    "import xgboost as xgb"
   ]
  },
  {
   "cell_type": "code",
   "execution_count": 53,
   "metadata": {},
   "outputs": [
    {
     "name": "stdout",
     "output_type": "stream",
     "text": [
      "Test Set Evaluation:\n",
      "R-squared: 0.6195438200185733\n",
      "Mean Squared Error: 72379874.12428303\n",
      "\n",
      "Training Set Evaluation:\n",
      "R-squared: 1.00\n",
      "Mean Squared Error: 232895.71\n"
     ]
    }
   ],
   "source": [
    "# Initialize and train the XGBoost Regressor with hyperparameters\n",
    "xgb_model = xgb.XGBRegressor(learning_rate=0.1, max_depth=5, n_estimators=1000, random_state=42)\n",
    "xgb_model.fit(X_train_scaled, y_train)\n",
    "\n",
    "# Make predictions on the test and training sets\n",
    "y_pred = xgb_model.predict(X_test_scaled)\n",
    "y_pred_train = xgb_model.predict(X_train_scaled)\n",
    "\n",
    "# Evaluate the model on the test set\n",
    "test_r2_score = r2_score(y_test, y_pred)\n",
    "test_mse = mean_squared_error(y_test, y_pred)\n",
    "print(\"Test Set Evaluation:\")\n",
    "print(f\"R-squared: {test_r2_score:}\")\n",
    "print(f\"Mean Squared Error: {test_mse:}\")\n",
    "\n",
    "# Evaluate the model on the training set\n",
    "train_r2_score = r2_score(y_train, y_pred_train)\n",
    "train_mse = mean_squared_error(y_train, y_pred_train)\n",
    "print(\"\\nTraining Set Evaluation:\")\n",
    "print(f\"R-squared: {train_r2_score:.2f}\")\n",
    "print(f\"Mean Squared Error: {train_mse:.2f}\")\n",
    "\n",
    "# Additional steps for hyperparameter tuning and visualization can be added here."
   ]
  },
  {
   "cell_type": "markdown",
   "metadata": {},
   "source": [
    "### Observations on XGBoost\n",
    "\n",
    "**Model Evaluation:**\n",
    "\n",
    "- The Test R-squared score of  0.61 suggests that the XGBoost model captures a considerable portion of the variance in the test data, indicating good predictive performance on unseen data.\n",
    "- The Train R-squared score of 1.00 indicates a strong fit to the training data, explaining a substantial amount of its variance.\n",
    "\n",
    "**Comparison of R-squared scores:**\n",
    "\n",
    "The Test R-squared is slightly lower than the Train R-squared, which is a typical and desirable pattern, indicating effective generalization to new, unseen data.\n",
    "\n",
    "**Summary:**\n",
    "\n",
    "Overall, the XGBoost model appears to be performing well, achieving decent R-squared values on both the training and test data."
   ]
  },
  {
   "cell_type": "markdown",
   "metadata": {},
   "source": [
    "# 6.Final Model Selection"
   ]
  },
  {
   "cell_type": "code",
   "execution_count": 54,
   "metadata": {},
   "outputs": [
    {
     "data": {
      "image/png": "[encoded data removed]",
      "text/plain": [
       "<Figure size 1000x600 with 1 Axes>"
      ]
     },
     "metadata": {},
     "output_type": "display_data"
    },
    {
     "data": {
      "image/png": "[encoded data removed]",
      "text/plain": [
       "<Figure size 1000x600 with 1 Axes>"
      ]
     },
     "metadata": {},
     "output_type": "display_data"
    }
   ],
   "source": [
    "import matplotlib.pyplot as plt\n",
    "\n",
    "# Define the names of the models\n",
    "model_names = [\n",
    "    \"Linear Regression\",\n",
    "    \"Ridge Regression\",\n",
    "    \"Validation Curve\",\n",
    "    \"Grid Search\",\n",
    "    \"Lasso Regression\",\n",
    "    \"Random Forest\",\n",
    "    \"KNN Regression\",\n",
    "    \"Gradient Boosting\",\n",
    "    \"Support Vector Regression\",\n",
    "    \"XG Boost\"\n",
    "]\n",
    "\n",
    "# Define the Mean Squared Error (MSE) values for each model\n",
    "mse_values = [\n",
    "    73950131.21,\n",
    "    77388795.36,\n",
    "    72224103.90,\n",
    "    77625506.47,\n",
    "    77363437.10,\n",
    "    68675719.00,\n",
    "    81991899.15,\n",
    "    67578210.06,\n",
    "    126320923.61,\n",
    "    69598077.47\n",
    "]\n",
    "\n",
    "# Define the R-squared values for each model\n",
    "r_squared_values = [\n",
    "    0.593,\n",
    "    0.593,\n",
    "    0.620,\n",
    "    0.592,\n",
    "    0.593,\n",
    "    0.639,\n",
    "    0.569,\n",
    "    0.645,\n",
    "    0.336,\n",
    "    0.634\n",
    "]\n",
    "\n",
    "# Plotting Mean Squared Error (MSE) for each model\n",
    "plt.figure(figsize=(10, 6))\n",
    "plt.bar(model_names, mse_values, color='green')\n",
    "plt.xlabel('Model')\n",
    "plt.ylabel('Mean Squared Error (MSE)')\n",
    "plt.title('Mean Squared Error for Each Model')\n",
    "plt.xticks(rotation=45, ha='right')  # Rotate x-axis labels for better visibility\n",
    "plt.tight_layout()\n",
    "plt.show()\n",
    "\n",
    "# Plotting R-squared for each model\n",
    "plt.figure(figsize=(10, 6))\n",
    "plt.bar(model_names, r_squared_values, color='blue')\n",
    "plt.xlabel('Model')\n",
    "plt.ylabel('R-squared')\n",
    "plt.title('R-squared for Each Model')\n",
    "plt.xticks(rotation=45, ha='right')  # Rotate x-axis labels for better visibility\n",
    "plt.tight_layout()\n",
    "plt.show()"
   ]
  },
  {
   "cell_type": "markdown",
   "metadata": {},
   "source": [
    "# Model Selection\n",
    "\n",
    "After a comprehensive analysis of Mean Squared Error (MSE) and R-squared values for each model, it's evident that Random Forest and Gradient Boosting consistently outperformed others in terms of predictive accuracy. However, Random Forest emerged as our preferred choice due to its exceptional accuracy, robustness, ease of use, and versatility in handling various types of data.\n",
    "\n",
    "##### Key Benefits of Random Forest:\n",
    "\n",
    "- High Accuracy: Known for accurate predictions.\n",
    "- Resists Overfitting: Less prone to overfitting.\n",
    "- Handles Various Data: Works with both categorical and numerical data.\n",
    "- Easy to Use: Requires minimal configuration, suitable for beginners.\n",
    "- Feature Insights: Identifies important features.\n",
    "- Ensemble Power: Combines multiple models for improved performance.\n",
    "- Parallel Processing: Speeds up training with parallel computing.\n",
    "- Out-of-Bag Evaluation: Offers built-in cross-validation for model assessment.\n"
   ]
  },
  {
   "cell_type": "markdown",
   "metadata": {},
   "source": [
    "# Selected Model\n",
    "---\n",
    "## Random Forest\n"
   ]
  },
  {
   "cell_type": "code",
   "execution_count": 55,
   "metadata": {},
   "outputs": [],
   "source": [
    "# Prepare New Employee For CTC Prediction\n",
    "Employee = pd.DataFrame({\n",
    "    'College':[1,1],\n",
    "    'City':[1,0],\n",
    "    'Previous CTC': [55000,50000],\n",
    "    'Previous job change': [2, 0],\n",
    "    'Graduation Marks': [88, 70],\n",
    "    'EXP (Month)': [3, 2], \n",
    "    'Role_Manager':[0,1]\n",
    "})"
   ]
  },
  {
   "cell_type": "code",
   "execution_count": 56,
   "metadata": {},
   "outputs": [],
   "source": [
    "new_Employee_scaled = scaler.transform(Employee)"
   ]
  },
  {
   "cell_type": "code",
   "execution_count": 57,
   "metadata": {},
   "outputs": [],
   "source": [
    "predictions = random_forest_model.predict(new_Employee_scaled)\n",
    "# Assuming 'random_forest_model' is your trained model"
   ]
  },
  {
   "cell_type": "code",
   "execution_count": 58,
   "metadata": {},
   "outputs": [
    {
     "name": "stdout",
     "output_type": "stream",
     "text": [
      "Predicted Salary for Employee 1: $65791.12\n",
      "Predicted Salary for Employee 2: $83439.53\n"
     ]
    }
   ],
   "source": [
    "for i, salary in enumerate(predictions):\n",
    "    print(f\"Predicted Salary for Employee {i + 1}: ${salary:.2f}\")"
   ]
  },
  {
   "cell_type": "markdown",
   "metadata": {},
   "source": [
    "#  1. Your views about the problem statement?\n",
    "1. **Realistic and Complex:** The problem statement reflects real-world complexity, as it involves predicting salaries based on multiple factors. This mirrors the challenges faced by HR departments, making it a relevant and practical problem.\n",
    "\n",
    "2. **Quality of Data:** The inclusion of various factors like educational background, city, job role, and experience adds to the richness of the dataset, making it more representative of actual HR data.\n",
    "\n",
    "3. **Model Evaluation:** You've rightly pointed out the importance of model evaluation. Effective evaluation techniques are essential for ensuring the reliability and utility of the predictive model, and the problem statement emphasizes this aspect.\n",
    "\n",
    "4. **Iterative Process:** The iterative process mentioned in the problem statement, where multiple models are evaluated and fine-tuned, reflects a commitment to achieving the best possible predictive accuracy.\n",
    "\n",
    "Overall, this problem statement provides a valuable learning opportunity for data scientists, as it engages in a real-world regression problem."
   ]
  },
  {
   "cell_type": "markdown",
   "metadata": {},
   "source": [
    "#  2. What will be your approach to solving this task?\n",
    "\n",
    "My approach to solving the task is well-structured and covers the essential steps in developing a predictive model for employee CTC. Here's my approach formatted for clarity:\n",
    "\n",
    "1. **Understanding the Problem:**\n",
    "   - Comprehend the problem statement, which involves creating a predictive model for employee CTC based on available information.\n",
    "2. **Data Collection:**\n",
    "   - Import the datasets into dataframes for analysis and modeling.\n",
    "3. **Data Preprocessing:**\n",
    "   - Prepare the data for modeling by addressing the following tasks:\n",
    "     - Handling Missing Values: Identify and address missing data, utilizing strategies like mean or median imputation.\n",
    "     - Outlier Detection: Identify and handle outliers in the dataset to prevent them from impacting model performance.\n",
    "     - Encoding Categorical Variables: Convert categorical variables into numerical representations using techniques like one-hot encoding or label encoding.\n",
    "4. **Data Splitting:**\n",
    "   - Split the dataset into two subsets:\n",
    "     - X (Features): This subset includes all independent variables used for prediction.\n",
    "     - y (Target Variable): This subset contains the target variable, in this case, CTC.\n",
    "5. **Model Selection:**\n",
    "   - Choose a set of regression models to evaluate, such as Linear Regression, Ridge Regression, validation curve, Grid Search, Lasso Regression, Random Forest, KNN Regression, Gradient Boosting, Support Vector Regression, and XG Boost.\n",
    "6. **Final Model Selection:**\n",
    "   - Based on the evaluation results, choose the best-performing model as the final model for predicting CTC. Consider factors such as model performance metrics, interpretability, and practicality for deployment.\n"
   ]
  },
  {
   "cell_type": "markdown",
   "metadata": {},
   "source": [
    "# 3. What were the available ML model options you had to perform this task?\n",
    "\n",
    "* Linear Regression \n",
    "\n",
    "* Ridge Regression \n",
    "\n",
    "* validation curve\n",
    "\n",
    "* Grid Search\n",
    "\n",
    "* Lasso Regression\n",
    "\n",
    "* Random Forest\n",
    "\n",
    "* KNN Regression\n",
    "\n",
    "* Gradient Boosting\n",
    "\n",
    "* Support Vector Regression\n",
    "\n",
    "* XG Boost"
   ]
  },
  {
   "cell_type": "markdown",
   "metadata": {},
   "source": [
    "# 4.Which model’s performance is best and what could be the possible reason for that?\n",
    "\n",
    "\n",
    "**Random Forest:**\n",
    "- Ensemble Averaging: Reduces errors and improves stability by combining multiple decision trees.\n",
    "- Reduced Overfitting: Uses bootstrapped samples and random feature selection to prevent overfitting.\n",
    "- Versatility: Handles various data types without extensive preprocessing.\n",
    "- Feature Importance: Provides feature importance scores.\n",
    "- Parallelization: Can be parallelized for efficient training.\n",
    "- Out-of-Bag (OOB) Evaluation: Includes built-in cross-validation with OOB assessment.\n",
    "- Resilience to Outliers: Less sensitive to outliers due to ensemble averaging.\n"
   ]
  },
  {
   "cell_type": "markdown",
   "metadata": {},
   "source": [
    "# 5. What steps can you take to improve this selected model’s performance even further?\n",
    "\n",
    "1. **Feature Engineering:** Create informative features to enhance the model's predictive capabilities.\n",
    "\n",
    "2. **Data Cleaning:** Thoroughly handle missing values and address outliers to improve data quality.\n",
    "\n",
    "3. **Feature Scaling:** Normalize numerical features to ensure consistent impact during modeling.\n",
    "\n",
    "4. **Hyperparameter Tuning:** Fine-tune model hyperparameters for optimal performance.\n",
    "\n",
    "5. **Ensemble Methods:** Explore ensemble techniques like bagging and boosting for improved results.\n",
    "\n",
    "6. **Cross-Validation:** Implement cross-validation to assess model robustness and generalization.\n",
    "\n",
    "7. **Regularization:** Use regularization techniques to prevent overfitting, such as adjusting max depth and min samples split.\n",
    "\n",
    "8. **Feature Selection:** Focus on the most informative features and eliminate redundant ones to streamline the model.\n",
    "\n",
    "9. **Data Augmentation:** If data is limited, consider generating synthetic data to increase the training set size.\n",
    "\n",
    "10. **Model Stacking:** Combine predictions from multiple models to leverage their strengths and mitigate weaknesses.\n",
    "\n",
    "11. **Domain Expertise:** Collaborate with domain experts for additional insights into the data and problem domain.\n",
    "\n",
    "12. **Regular Updates:** Continuously update the model with new data to keep it current and relevant.\n",
    "\n"
   ]
  },
  {
   "cell_type": "markdown",
   "metadata": {},
   "source": []
  }
 ],
 "metadata": {
  "kernelspec": {
   "display_name": "base",
   "language": "python",
   "name": "python3"
  },
  "language_info": {
   "codemirror_mode": {
    "name": "ipython",
    "version": 3
   },
   "file_extension": ".py",
   "mimetype": "text/x-python",
   "name": "python",
   "nbconvert_exporter": "python",
   "pygments_lexer": "ipython3",
   "version": "3.11.7"
  }
 },
 "nbformat": 4,
 "nbformat_minor": 2
}
